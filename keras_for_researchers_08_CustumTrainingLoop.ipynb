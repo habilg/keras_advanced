{
  "cells": [
    {
      "cell_type": "markdown",
      "metadata": {
        "id": "view-in-github",
        "colab_type": "text"
      },
      "source": [
        "<a href=\"https://colab.research.google.com/github/habilg/keras_advanced/blob/master/keras_for_researchers_08_CustumTrainingLoop.ipynb\" target=\"_parent\"><img src=\"https://colab.research.google.com/assets/colab-badge.svg\" alt=\"Open In Colab\"/></a>"
      ]
    },
    {
      "cell_type": "markdown",
      "source": [
        "# Steps:\n",
        "> prepare Data by data api. Dont forget shuffle, batch and...  \n",
        "> select a loss  \n",
        "> select an optimizer  \n",
        "> put every thing in Gradient Tape\n",
        "> inside gradianttape,\n",
        "+ feed the batch to model\n",
        "+ calculate the loss   \n",
        "> claculate the calculus to the model trainable weights  \n",
        "> update the model weights by optimizers\n",
        "\n",
        ">\n",
        "```python\n",
        "for epoch in range(epochs):\n",
        "  for batch,data in eumerate(dataset)\n",
        "    with GradientTape as g:\n",
        "      y_pred=model(data.x_train, Training=True)\n",
        "      loss_value=loss_fn(data.y_train, y_pred)\n",
        "      metrics=metric.update_state(data.y_train, y_pred)\n",
        "    grads=g.gredient(loss_value,model.trainable_weights)\n",
        "    opt.apply_gradients(zip(grads,model.trainable_weights))\n",
        "    train_mae_val=metric.result()\n",
        "    train_mae_val.reset_states()\n",
        "\n",
        "\n",
        "```\n"
      ],
      "metadata": {
        "id": "hbDf_dZDxiad"
      },
      "id": "hbDf_dZDxiad"
    },
    {
      "cell_type": "code",
      "source": [],
      "metadata": {
        "id": "J4AugCpU2NH9"
      },
      "id": "J4AugCpU2NH9",
      "execution_count": null,
      "outputs": []
    }
  ],
  "metadata": {
    "colab": {
      "provenance": [],
      "include_colab_link": true
    }
  },
  "nbformat": 4,
  "nbformat_minor": 5
}