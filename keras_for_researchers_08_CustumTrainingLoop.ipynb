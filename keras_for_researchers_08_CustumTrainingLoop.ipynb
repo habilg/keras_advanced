{
  "cells": [
    {
      "cell_type": "markdown",
      "metadata": {
        "id": "view-in-github",
        "colab_type": "text"
      },
      "source": [
        "<a href=\"https://colab.research.google.com/github/habilg/keras_advanced/blob/master/keras_for_researchers_08_CustumTrainingLoop.ipynb\" target=\"_parent\"><img src=\"https://colab.research.google.com/assets/colab-badge.svg\" alt=\"Open In Colab\"/></a>"
      ]
    },
    {
      "cell_type": "markdown",
      "source": [
        "# Steps:\n",
        "> prepare Data by data api. Dont forget shuffle, batch and...  \n",
        "> select a loss  \n",
        "> select an optimizer  \n",
        "> put every thing in Gradient Tape\n",
        "> inside gradianttape,\n",
        "+ feed the batch to model\n",
        "+ calculate the loss   \n",
        "> claculate the calculus to the model trainable weights  \n",
        "> update the model weights by optimizers\n",
        "\n",
        ">\n",
        "```python\n",
        "for epoch in range(epochs):\n",
        "  \n",
        "  for batch,data in eumerate(dataset)\n",
        "    with GradientTape as g:\n",
        "      y_pred=model(data.x_train, Training=True)\n",
        "      loss_value=loss_fn(data.y_train, y_pred)\n",
        "    metric.update_state(data.y_train, y_pred)\n",
        "    grads=g.gradient(loss_value,model.trainable_weights)\n",
        "    opt.apply_gradients(zip(grads,model.trainable_weights))\n",
        "  #return the metric value for epoch(mean of all metrics for batchs)\n",
        "  train_mae_val=metric.result()\n",
        "  # reset the metric for the next epoch\n",
        "  train_mae_val.reset_states()\n",
        "\n",
        "\n",
        "```\n"
      ],
      "metadata": {
        "id": "hbDf_dZDxiad"
      },
      "id": "hbDf_dZDxiad"
    },
    {
      "cell_type": "code",
      "source": [
        "import tensorflow as tf\n",
        "from tensorflow import keras\n",
        "from keras.layers import Dense"
      ],
      "metadata": {
        "id": "J4AugCpU2NH9"
      },
      "id": "J4AugCpU2NH9",
      "execution_count": 16,
      "outputs": []
    },
    {
      "cell_type": "code",
      "source": [
        "from sklearn.datasets import fetch_california_housing\n",
        "from sklearn.model_selection import train_test_split\n",
        "from sklearn.preprocessing import StandardScaler"
      ],
      "metadata": {
        "id": "pfsTEc577YXL"
      },
      "id": "pfsTEc577YXL",
      "execution_count": 17,
      "outputs": []
    },
    {
      "cell_type": "code",
      "source": [
        "housing = fetch_california_housing()\n",
        "x_train, x_test, y_train, y_test = train_test_split(housing[\"data\"], housing[\"target\"])\n",
        "training_data=tf.data.Dataset.from_tensor_slices((x_train,y_train))\n",
        "training_data=training_data.batch(30)"
      ],
      "metadata": {
        "id": "SxI6yapV7ecx"
      },
      "id": "SxI6yapV7ecx",
      "execution_count": 18,
      "outputs": []
    },
    {
      "cell_type": "code",
      "source": [
        "model=keras.models.Sequential([\n",
        "    Dense(50,activation=\"relu\"),\n",
        "    Dense(10,activation=\"relu\"),\n",
        "    Dense(1)])"
      ],
      "metadata": {
        "id": "qWymw78F7izh"
      },
      "id": "qWymw78F7izh",
      "execution_count": 19,
      "outputs": []
    },
    {
      "cell_type": "code",
      "source": [
        "loss_fn=keras.losses.MeanSquaredError()\n",
        "opt=tf.keras.optimizers.Adam(learning_rate=0.001)\n",
        "metric=tf.keras.metrics.MeanSquaredError()"
      ],
      "metadata": {
        "id": "RtM0xAs87nRg"
      },
      "id": "RtM0xAs87nRg",
      "execution_count": 26,
      "outputs": []
    },
    {
      "cell_type": "code",
      "source": [],
      "metadata": {
        "id": "16ELCUHUoz3D"
      },
      "id": "16ELCUHUoz3D",
      "execution_count": 51,
      "outputs": []
    },
    {
      "cell_type": "code",
      "source": [
        "epochs=2\n",
        "for epoch in range(epochs):\n",
        "  epoch_loss=[]\n",
        "  for step,(xt,yt) in enumerate(training_data):\n",
        "    with tf.GradientTape() as tape:\n",
        "      model_out=model(xt, training=True)\n",
        "      loss_value=loss_fn(yt, model_out)\n",
        "\n",
        "    grads=tape.gradient(loss_value,model.trainable_variables)\n",
        "    opt.apply_gradients(zip(grads,model.trainable_variables))\n",
        "    metric.update_state(yt, model_out)\n",
        "    if step% 100 ==0:\n",
        "      print(f\"epoch {epoch+1} form {epochs} epochs: batch {step} Training loss: \",float(loss_value),\"Metric: \",float(metric.result()))\n",
        "    epoch_loss.append(loss_value)\n",
        "  print(\"**********epoch_loss: \",tf.math.reduce_mean(tf.convert_to_tensor(epoch_loss, dtype=tf.float64).numpy()))\n",
        "  print(\"**********metric: \",float(metric.result()))\n",
        "  metric.reset_state()"
      ],
      "metadata": {
        "colab": {
          "base_uri": "https://localhost:8080/"
        },
        "id": "q82kF6F77rsY",
        "outputId": "7d0e405d-4e4e-4e95-e7a0-afee7dfc43b7"
      },
      "id": "q82kF6F77rsY",
      "execution_count": 35,
      "outputs": [
        {
          "output_type": "stream",
          "name": "stdout",
          "text": [
            "epoch 1 form 2 epochs: batch 0 Training loss:  0.6834205985069275 Metric:  0.6834205985069275\n",
            "epoch 1 form 2 epochs: batch 100 Training loss:  0.5277000665664673 Metric:  0.8134132027626038\n",
            "epoch 1 form 2 epochs: batch 200 Training loss:  10.470314979553223 Metric:  1.9835187196731567\n",
            "epoch 1 form 2 epochs: batch 300 Training loss:  0.8241281509399414 Metric:  3.6277568340301514\n",
            "epoch 1 form 2 epochs: batch 400 Training loss:  0.29409071803092957 Metric:  2.958096742630005\n",
            "epoch 1 form 2 epochs: batch 500 Training loss:  0.9429605603218079 Metric:  2.511659860610962\n",
            "**********epoch_loss:  tf.Tensor(2.460677313307921, shape=(), dtype=float64)\n",
            "**********metric:  2.4606754779815674\n",
            "epoch 2 form 2 epochs: batch 0 Training loss:  0.6835720539093018 Metric:  0.6835720539093018\n",
            "epoch 2 form 2 epochs: batch 100 Training loss:  0.514913022518158 Metric:  0.8267788290977478\n",
            "epoch 2 form 2 epochs: batch 200 Training loss:  32.73588562011719 Metric:  4.246690273284912\n",
            "epoch 2 form 2 epochs: batch 300 Training loss:  0.8234394788742065 Metric:  7.517601013183594\n",
            "epoch 2 form 2 epochs: batch 400 Training loss:  0.38009318709373474 Metric:  5.887658596038818\n",
            "epoch 2 form 2 epochs: batch 500 Training loss:  1.0582101345062256 Metric:  4.866847038269043\n",
            "**********epoch_loss:  tf.Tensor(4.7504180777789085, shape=(), dtype=float64)\n",
            "**********metric:  4.750417232513428\n"
          ]
        }
      ]
    }
  ],
  "metadata": {
    "colab": {
      "provenance": [],
      "include_colab_link": true
    },
    "language_info": {
      "name": "python"
    },
    "kernelspec": {
      "name": "python3",
      "display_name": "Python 3"
    }
  },
  "nbformat": 4,
  "nbformat_minor": 5
}