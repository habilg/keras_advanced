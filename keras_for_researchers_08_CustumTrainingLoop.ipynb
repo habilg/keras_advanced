{
  "cells": [
    {
      "cell_type": "markdown",
      "metadata": {
        "id": "view-in-github",
        "colab_type": "text"
      },
      "source": [
        "<a href=\"https://colab.research.google.com/github/habilg/keras_advanced/blob/master/keras_for_researchers_08_CustumTrainingLoop.ipynb\" target=\"_parent\"><img src=\"https://colab.research.google.com/assets/colab-badge.svg\" alt=\"Open In Colab\"/></a>"
      ]
    },
    {
      "cell_type": "markdown",
      "source": [
        "# Steps:\n",
        "> prepare Data by data api. Dont forget shuffle, batch and...  \n",
        "> select a loss  \n",
        "> select an optimizer  \n",
        "> put every thing in Gradient Tape\n",
        "> inside gradianttape,\n",
        "+ feed the batch to model\n",
        "+ calculate the loss   \n",
        "> claculate the calculus to the model trainable weights  \n",
        "> update the model weights by optimizers\n",
        "\n",
        ">\n",
        "```python\n",
        "for epoch in range(epochs):\n",
        "  \n",
        "  for batch,data in eumerate(dataset)\n",
        "    with GradientTape as g:\n",
        "      y_pred=model(data.x_train, Training=True)\n",
        "      loss_value=loss_fn(data.y_train, y_pred)\n",
        "    metric.update_state(data.y_train, y_pred)\n",
        "    grads=g.gradient(loss_value,model.trainable_weights)\n",
        "    opt.apply_gradients(zip(grads,model.trainable_weights))\n",
        "  #return the metric value for epoch(mean of all metrics for batchs)\n",
        "  train_mae_val=metric.result()\n",
        "  # reset the metric for the next epoch\n",
        "  train_mae_val.reset_states()\n",
        "\n",
        "\n",
        "```\n"
      ],
      "metadata": {
        "id": "hbDf_dZDxiad"
      },
      "id": "hbDf_dZDxiad"
    },
    {
      "cell_type": "code",
      "source": [
        "import tensorflow as tf\n",
        "from tensorflow import keras\n",
        "from keras.layers import Dense\n",
        "import numpy as np"
      ],
      "metadata": {
        "id": "J4AugCpU2NH9"
      },
      "id": "J4AugCpU2NH9",
      "execution_count": 16,
      "outputs": []
    },
    {
      "cell_type": "code",
      "source": [
        "from sklearn.datasets import fetch_california_housing\n",
        "from sklearn.model_selection import train_test_split\n",
        "from sklearn.preprocessing import StandardScaler"
      ],
      "metadata": {
        "id": "pfsTEc577YXL"
      },
      "id": "pfsTEc577YXL",
      "execution_count": 17,
      "outputs": []
    },
    {
      "cell_type": "code",
      "source": [
        "housing = fetch_california_housing()\n",
        "x_train, x_test, y_train, y_test = train_test_split(housing[\"data\"], housing[\"target\"])\n",
        "training_data=tf.data.Dataset.from_tensor_slices((x_train,y_train))\n",
        "training_data=training_data.batch(30)"
      ],
      "metadata": {
        "id": "SxI6yapV7ecx"
      },
      "id": "SxI6yapV7ecx",
      "execution_count": 18,
      "outputs": []
    },
    {
      "cell_type": "code",
      "source": [
        "model=keras.models.Sequential([\n",
        "    Dense(50,activation=\"relu\"),\n",
        "    Dense(10,activation=\"relu\"),\n",
        "    Dense(1)])"
      ],
      "metadata": {
        "id": "qWymw78F7izh"
      },
      "id": "qWymw78F7izh",
      "execution_count": 19,
      "outputs": []
    },
    {
      "cell_type": "code",
      "source": [
        "loss_fn=keras.losses.MeanSquaredError()\n",
        "opt=tf.keras.optimizers.Adam(learning_rate=0.001)\n",
        "metric=tf.keras.metrics.MeanSquaredError()"
      ],
      "metadata": {
        "id": "RtM0xAs87nRg"
      },
      "id": "RtM0xAs87nRg",
      "execution_count": 26,
      "outputs": []
    },
    {
      "cell_type": "code",
      "source": [],
      "metadata": {
        "id": "16ELCUHUoz3D"
      },
      "id": "16ELCUHUoz3D",
      "execution_count": 51,
      "outputs": []
    },
    {
      "cell_type": "code",
      "source": [
        "epochs=2\n",
        "for epoch in range(epochs):\n",
        "  epoch_loss=[]\n",
        "  for step,(xt,yt) in enumerate(training_data):\n",
        "    with tf.GradientTape() as tape:\n",
        "      model_out=model(xt, training=True)\n",
        "      loss_value=loss_fn(yt, model_out)\n",
        "\n",
        "    grads=tape.gradient(loss_value,model.trainable_variables)\n",
        "    opt.apply_gradients(zip(grads,model.trainable_variables))\n",
        "    metric.update_state(yt, model_out)\n",
        "    if step% 100 ==0:\n",
        "      print(f\"epoch {epoch+1} form {epochs} epochs: batch {step} Training loss: \",float(loss_value),\"Metric: \",float(metric.result()))\n",
        "    epoch_loss.append(loss_value)\n",
        "  print(\"**********epoch_loss: \",np.mean(np.array(epoch_loss)))\n",
        "  print(\"**********metric: \",float(metric.result()))\n",
        "  metric.reset_state()"
      ],
      "metadata": {
        "id": "q82kF6F77rsY",
        "outputId": "196e482a-c2ff-4b8e-c78c-76e8e063f1a1",
        "colab": {
          "base_uri": "https://localhost:8080/"
        }
      },
      "id": "q82kF6F77rsY",
      "execution_count": 34,
      "outputs": [
        {
          "output_type": "stream",
          "name": "stdout",
          "text": [
            "epoch 1 form 2 epochs: batch 0 Training loss:  0.7003980278968811 Metric:  0.7003980278968811\n",
            "epoch 1 form 2 epochs: batch 100 Training loss:  0.5457313060760498 Metric:  0.8411512970924377\n",
            "epoch 1 form 2 epochs: batch 200 Training loss:  37.862979888916016 Metric:  7.291339874267578\n",
            "epoch 1 form 2 epochs: batch 300 Training loss:  1.0922061204910278 Metric:  8.814133644104004\n",
            "epoch 1 form 2 epochs: batch 400 Training loss:  0.45624372363090515 Metric:  6.8315229415893555\n",
            "epoch 1 form 2 epochs: batch 500 Training loss:  1.0892459154129028 Metric:  5.636259078979492\n",
            "**********epoch_loss:  5.4996705\n",
            "**********metric:  5.499672889709473\n",
            "epoch 2 form 2 epochs: batch 0 Training loss:  1.4862675666809082 Metric:  1.4862675666809082\n",
            "epoch 2 form 2 epochs: batch 100 Training loss:  0.7696994543075562 Metric:  0.8324152231216431\n",
            "epoch 2 form 2 epochs: batch 200 Training loss:  1.964120864868164 Metric:  1.1772667169570923\n",
            "epoch 2 form 2 epochs: batch 300 Training loss:  0.8125975728034973 Metric:  1.121516227722168\n",
            "epoch 2 form 2 epochs: batch 400 Training loss:  0.9688590168952942 Metric:  1.1678190231323242\n",
            "epoch 2 form 2 epochs: batch 500 Training loss:  1.047983169555664 Metric:  1.1195294857025146\n",
            "**********epoch_loss:  1.1104805\n",
            "**********metric:  1.1104804277420044\n"
          ]
        }
      ]
    }
  ],
  "metadata": {
    "colab": {
      "provenance": [],
      "include_colab_link": true
    },
    "language_info": {
      "name": "python"
    },
    "kernelspec": {
      "name": "python3",
      "display_name": "Python 3"
    }
  },
  "nbformat": 4,
  "nbformat_minor": 5
}