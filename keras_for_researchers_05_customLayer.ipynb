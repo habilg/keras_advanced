{
  "nbformat": 4,
  "nbformat_minor": 0,
  "metadata": {
    "colab": {
      "provenance": [],
      "authorship_tag": "ABX9TyNv9UFyA5qvh47DHiXMEODG",
      "include_colab_link": true
    },
    "kernelspec": {
      "name": "python3",
      "display_name": "Python 3"
    },
    "language_info": {
      "name": "python"
    }
  },
  "cells": [
    {
      "cell_type": "markdown",
      "metadata": {
        "id": "view-in-github",
        "colab_type": "text"
      },
      "source": [
        "<a href=\"https://colab.research.google.com/github/habilg/keras_advanced/blob/master/keras_for_researchers_03_customLayer.ipynb\" target=\"_parent\"><img src=\"https://colab.research.google.com/assets/colab-badge.svg\" alt=\"Open In Colab\"/></a>"
      ]
    },
    {
      "cell_type": "code",
      "execution_count": null,
      "metadata": {
        "id": "HbdhGxzoK8lM"
      },
      "outputs": [],
      "source": [
        "import tensorflow as tf\n",
        "from tensorflow import keras"
      ]
    },
    {
      "cell_type": "markdown",
      "source": [
        "What is a layer?\n",
        "\n",
        "a layer is the smallest functional building block for a NN  \n",
        "loss(input * weights + bias) "
      ],
      "metadata": {
        "id": "xrCXuV50hEuz"
      }
    },
    {
      "cell_type": "markdown",
      "source": [
        "```python\n",
        "class Customlayer(keras.layers.Layer):\n",
        "\n",
        "  def __init__(self):\n",
        "    super().__init__()\n",
        "\n",
        "  def build(self) # Called the first time the layer is called by __call__\n",
        "                  # a place for creating weights by self.add_weight() method\n",
        "      self.W=self.add_weight(shape=(,),\n",
        "                             initializer=...,\n",
        "                             trainable = True / False\n",
        "                             )\n",
        "\n",
        "\n",
        "  def call(self)  # Not __call__\n",
        "                  # a place for computation\n",
        "                  # graph execution\n",
        "                  # input masking\n",
        "```"
      ],
      "metadata": {
        "id": "AwXAdExcUzKG"
      }
    },
    {
      "cell_type": "code",
      "source": [
        "class Linear(keras.layers.Layer):\n",
        "    \"\"\"y = w.x + b\"\"\"\n",
        "\n",
        "    def __init__(self, units=32, activation=None):\n",
        "        super().__init__()\n",
        "        self.units = units\n",
        "        self.activation=activation\n",
        "\n",
        "    def build(self, input_shape):\n",
        "        self.w = self.add_weight(\n",
        "            shape=(input_shape[-1], self.units),\n",
        "            initializer=\"random_normal\",\n",
        "            trainable=True,\n",
        "        )\n",
        "        self.b = self.add_weight(\n",
        "            shape=(self.units,), initializer=\"random_normal\", trainable=True\n",
        "        )\n",
        "\n",
        "    def call(self, inputs):\n",
        "        y= tf.matmul(inputs, self.w) + self.b\n",
        "        if self.activation is not None:\n",
        "          y=self.activation(y)\n",
        "        return y"
      ],
      "metadata": {
        "id": "lfAyonDCLNzh"
      },
      "execution_count": null,
      "outputs": []
    },
    {
      "cell_type": "code",
      "source": [
        "my_linear = Linear(units=16,activation=tf.nn.relu)\n",
        "input_tensor=tf.ones(shape=(2,14))\n",
        "output_tensor=my_linear(input_tensor)\n",
        "print(output_tensor.shape)"
      ],
      "metadata": {
        "colab": {
          "base_uri": "https://localhost:8080/"
        },
        "id": "5PCWWYZelkQl",
        "outputId": "3abc8bfa-9601-4065-eb5f-86bd10cdd4f6"
      },
      "execution_count": null,
      "outputs": [
        {
          "output_type": "stream",
          "name": "stdout",
          "text": [
            "(2, 16)\n"
          ]
        }
      ]
    },
    {
      "cell_type": "code",
      "source": [
        "my_linear.weights[0].shape"
      ],
      "metadata": {
        "colab": {
          "base_uri": "https://localhost:8080/"
        },
        "id": "uKtqO9pOmYM_",
        "outputId": "df79cdb6-93e8-4c2f-d704-a1846d60fc0c"
      },
      "execution_count": null,
      "outputs": [
        {
          "output_type": "execute_result",
          "data": {
            "text/plain": [
              "TensorShape([14, 16])"
            ]
          },
          "metadata": {},
          "execution_count": 11
        }
      ]
    },
    {
      "cell_type": "code",
      "source": [
        "my_linear.weights[1].shape"
      ],
      "metadata": {
        "colab": {
          "base_uri": "https://localhost:8080/"
        },
        "id": "o5n8wggcm9XK",
        "outputId": "74a2e237-13af-467c-a03e-f766c3dc1476"
      },
      "execution_count": null,
      "outputs": [
        {
          "output_type": "execute_result",
          "data": {
            "text/plain": [
              "TensorShape([16])"
            ]
          },
          "metadata": {},
          "execution_count": 12
        }
      ]
    },
    {
      "cell_type": "code",
      "source": [],
      "metadata": {
        "id": "i0ReMP4YvD8L"
      },
      "execution_count": null,
      "outputs": []
    }
  ]
}