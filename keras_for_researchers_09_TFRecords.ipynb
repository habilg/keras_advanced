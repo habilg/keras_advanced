{
  "cells": [
    {
      "cell_type": "markdown",
      "metadata": {
        "id": "view-in-github",
        "colab_type": "text"
      },
      "source": [
        "<a href=\"https://colab.research.google.com/github/habilg/keras_advanced/blob/master/keras_for_researchers_09_TFRecords.ipynb\" target=\"_parent\"><img src=\"https://colab.research.google.com/assets/colab-badge.svg\" alt=\"Open In Colab\"/></a>"
      ]
    },
    {
      "cell_type": "code",
      "source": [
        "import tensorflow as tf\n",
        "import tensorflow.keras as keras"
      ],
      "metadata": {
        "id": "1UYFVlpAOxDL"
      },
      "id": "1UYFVlpAOxDL",
      "execution_count": 1,
      "outputs": []
    },
    {
      "cell_type": "code",
      "source": [
        "from sklearn.datasets import fetch_california_housing\n",
        "from sklearn.model_selection import train_test_split\n",
        "from sklearn.preprocessing import StandardScaler"
      ],
      "metadata": {
        "id": "uBC-LhCnOaHI"
      },
      "id": "uBC-LhCnOaHI",
      "execution_count": 2,
      "outputs": []
    },
    {
      "cell_type": "code",
      "source": [
        "housing = fetch_california_housing()\n",
        "x_train, x_test, y_train, y_test = train_test_split(housing[\"data\"], housing[\"target\"])"
      ],
      "metadata": {
        "id": "SjHY9P7LO63j"
      },
      "id": "SjHY9P7LO63j",
      "execution_count": 3,
      "outputs": []
    },
    {
      "cell_type": "code",
      "source": [
        "print('dataset shape:' ,housing[\"data\"].shape,\"\\ntarget shape: \", housing[\"target\"].shape)"
      ],
      "metadata": {
        "id": "naMKSe38PDVh",
        "outputId": "4cac93ce-6ec4-4a89-c265-20f4b685b675",
        "colab": {
          "base_uri": "https://localhost:8080/"
        }
      },
      "id": "naMKSe38PDVh",
      "execution_count": 9,
      "outputs": [
        {
          "output_type": "stream",
          "name": "stdout",
          "text": [
            "dataset shape: (20640, 8) \n",
            "target shape:  (20640,)\n"
          ]
        }
      ]
    },
    {
      "cell_type": "code",
      "source": [
        "result=tf.concat((housing[\"data\"],tf.transpose((housing[\"target\"],))),axis=1)"
      ],
      "metadata": {
        "id": "I82cx3bJQf_w"
      },
      "id": "I82cx3bJQf_w",
      "execution_count": 45,
      "outputs": []
    },
    {
      "cell_type": "code",
      "source": [
        "result.numpy().shape"
      ],
      "metadata": {
        "id": "OppQsqAjXmAq",
        "outputId": "834b7d8d-5367-490a-8d85-f39d92f74cf4",
        "colab": {
          "base_uri": "https://localhost:8080/"
        }
      },
      "id": "OppQsqAjXmAq",
      "execution_count": 47,
      "outputs": [
        {
          "output_type": "execute_result",
          "data": {
            "text/plain": [
              "(20640, 9)"
            ]
          },
          "metadata": {},
          "execution_count": 47
        }
      ]
    },
    {
      "cell_type": "code",
      "source": [
        "ds=tf.data.Dataset.from_tensor_slices(result)"
      ],
      "metadata": {
        "id": "Y8W2Fkn-X36m"
      },
      "id": "Y8W2Fkn-X36m",
      "execution_count": 48,
      "outputs": []
    },
    {
      "cell_type": "code",
      "source": [
        "for item in ds.take(2):\n",
        "  print(item.numpy())"
      ],
      "metadata": {
        "id": "GiJ3i_gUX88V",
        "outputId": "aac1e76e-5f96-42eb-a741-3cbfd37a9386",
        "colab": {
          "base_uri": "https://localhost:8080/"
        }
      },
      "id": "GiJ3i_gUX88V",
      "execution_count": 52,
      "outputs": [
        {
          "output_type": "stream",
          "name": "stdout",
          "text": [
            "[   8.3252       41.            6.98412698    1.02380952  322.\n",
            "    2.55555556   37.88       -122.23          4.526     ]\n",
            "[ 8.30140000e+00  2.10000000e+01  6.23813708e+00  9.71880492e-01\n",
            "  2.40100000e+03  2.10984183e+00  3.78600000e+01 -1.22220000e+02\n",
            "  3.58500000e+00]\n"
          ]
        }
      ]
    },
    {
      "cell_type": "code",
      "source": [
        "ds.save(\"./dset.dataset\")"
      ],
      "metadata": {
        "id": "yJEAKqoFZ7mw"
      },
      "id": "yJEAKqoFZ7mw",
      "execution_count": 54,
      "outputs": []
    },
    {
      "cell_type": "code",
      "source": [
        "newds=ds.load(\"./dset.dataset\")"
      ],
      "metadata": {
        "id": "Ohfs4jH-Z7jU"
      },
      "id": "Ohfs4jH-Z7jU",
      "execution_count": 56,
      "outputs": []
    },
    {
      "cell_type": "markdown",
      "source": [
        "# TFRecords"
      ],
      "metadata": {
        "id": "w1i9xHYqeLvz"
      },
      "id": "w1i9xHYqeLvz"
    },
    {
      "cell_type": "code",
      "source": [],
      "metadata": {
        "id": "-gLl8AuAePfT"
      },
      "id": "-gLl8AuAePfT",
      "execution_count": null,
      "outputs": []
    },
    {
      "cell_type": "code",
      "source": [],
      "metadata": {
        "id": "xgnlEJZyePBZ"
      },
      "id": "xgnlEJZyePBZ",
      "execution_count": null,
      "outputs": []
    },
    {
      "cell_type": "markdown",
      "source": [
        "# TFDS\n",
        "TFDS is a high level wrapper around `tf.data.`"
      ],
      "metadata": {
        "id": "dd2dPOZTdazx"
      },
      "id": "dd2dPOZTdazx"
    },
    {
      "cell_type": "code",
      "source": [],
      "metadata": {
        "id": "ZkYwE7wTZ7fR"
      },
      "id": "ZkYwE7wTZ7fR",
      "execution_count": null,
      "outputs": []
    },
    {
      "cell_type": "code",
      "source": [],
      "metadata": {
        "id": "OJx2GhmvZ7Tr"
      },
      "id": "OJx2GhmvZ7Tr",
      "execution_count": null,
      "outputs": []
    },
    {
      "cell_type": "code",
      "source": [
        "import numpy as np\n",
        "c=np.array([[1,2,3],[5,6,7],[9,10,11]])\n",
        "d=np.array([[4,8,12]])"
      ],
      "metadata": {
        "id": "IbbNyGOJVHOf"
      },
      "id": "IbbNyGOJVHOf",
      "execution_count": 37,
      "outputs": []
    },
    {
      "cell_type": "code",
      "source": [
        "np.concatenate([c,d.T],axis=1)"
      ],
      "metadata": {
        "id": "ixje3ezOVvmR",
        "outputId": "6a1acd4c-0e8f-4243-af44-6f83e08190f9",
        "colab": {
          "base_uri": "https://localhost:8080/"
        }
      },
      "id": "ixje3ezOVvmR",
      "execution_count": 43,
      "outputs": [
        {
          "output_type": "execute_result",
          "data": {
            "text/plain": [
              "array([[ 1,  2,  3,  4],\n",
              "       [ 5,  6,  7,  8],\n",
              "       [ 9, 10, 11, 12]])"
            ]
          },
          "metadata": {},
          "execution_count": 43
        }
      ]
    },
    {
      "cell_type": "code",
      "source": [
        "np.concatenate([c,d],axis=0)"
      ],
      "metadata": {
        "id": "KSTYwcP-V5hH",
        "outputId": "f220d7f8-c105-481c-af97-f2b1d207d7e4",
        "colab": {
          "base_uri": "https://localhost:8080/"
        }
      },
      "id": "KSTYwcP-V5hH",
      "execution_count": 44,
      "outputs": [
        {
          "output_type": "execute_result",
          "data": {
            "text/plain": [
              "array([[ 1,  2,  3],\n",
              "       [ 5,  6,  7],\n",
              "       [ 9, 10, 11],\n",
              "       [ 4,  8, 12]])"
            ]
          },
          "metadata": {},
          "execution_count": 44
        }
      ]
    },
    {
      "cell_type": "code",
      "source": [],
      "metadata": {
        "id": "5jnrpclTWoTh"
      },
      "id": "5jnrpclTWoTh",
      "execution_count": null,
      "outputs": []
    }
  ],
  "metadata": {
    "colab": {
      "provenance": [],
      "include_colab_link": true
    },
    "language_info": {
      "name": "python"
    },
    "kernelspec": {
      "name": "python3",
      "display_name": "Python 3"
    }
  },
  "nbformat": 4,
  "nbformat_minor": 5
}