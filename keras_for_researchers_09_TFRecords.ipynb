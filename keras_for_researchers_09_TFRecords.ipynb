{
  "cells": [
    {
      "cell_type": "markdown",
      "metadata": {
        "id": "view-in-github",
        "colab_type": "text"
      },
      "source": [
        "<a href=\"https://colab.research.google.com/github/habilg/keras_advanced/blob/master/keras_for_researchers_09_TFRecords.ipynb\" target=\"_parent\"><img src=\"https://colab.research.google.com/assets/colab-badge.svg\" alt=\"Open In Colab\"/></a>"
      ]
    },
    {
      "cell_type": "code",
      "source": [
        "import tensorflow as tf\n",
        "import tensorflow.keras as keras"
      ],
      "metadata": {
        "id": "1UYFVlpAOxDL"
      },
      "id": "1UYFVlpAOxDL",
      "execution_count": 1,
      "outputs": []
    },
    {
      "cell_type": "code",
      "source": [
        "from sklearn.datasets import fetch_california_housing\n",
        "from sklearn.model_selection import train_test_split\n",
        "from sklearn.preprocessing import StandardScaler"
      ],
      "metadata": {
        "id": "uBC-LhCnOaHI"
      },
      "id": "uBC-LhCnOaHI",
      "execution_count": 2,
      "outputs": []
    },
    {
      "cell_type": "code",
      "source": [
        "housing = fetch_california_housing()\n",
        "x_train, x_test, y_train, y_test = train_test_split(housing[\"data\"], housing[\"target\"])"
      ],
      "metadata": {
        "id": "SjHY9P7LO63j"
      },
      "id": "SjHY9P7LO63j",
      "execution_count": 3,
      "outputs": []
    },
    {
      "cell_type": "code",
      "source": [
        "print('dataset shape:' ,housing[\"data\"].shape,\"\\ntarget shape: \", housing[\"target\"].shape)"
      ],
      "metadata": {
        "id": "naMKSe38PDVh",
        "outputId": "dd4828d6-4228-4875-e8fa-4365498fbb88",
        "colab": {
          "base_uri": "https://localhost:8080/"
        }
      },
      "id": "naMKSe38PDVh",
      "execution_count": 4,
      "outputs": [
        {
          "output_type": "stream",
          "name": "stdout",
          "text": [
            "dataset shape: (20640, 8) \n",
            "target shape:  (20640,)\n"
          ]
        }
      ]
    },
    {
      "cell_type": "code",
      "source": [
        "#result=tf.concat((housing[\"data\"],tf.transpose((housing[\"target\"],))),axis=1)"
      ],
      "metadata": {
        "id": "I82cx3bJQf_w"
      },
      "id": "I82cx3bJQf_w",
      "execution_count": null,
      "outputs": []
    },
    {
      "cell_type": "code",
      "source": [
        "ds=tf.data.Dataset.from_tensor_slices((x_train,y_train))"
      ],
      "metadata": {
        "id": "Y8W2Fkn-X36m"
      },
      "id": "Y8W2Fkn-X36m",
      "execution_count": 5,
      "outputs": []
    },
    {
      "cell_type": "code",
      "source": [
        "for x,y in ds.take(2):\n",
        "  print(x.numpy(),\"\\n\",y.numpy())"
      ],
      "metadata": {
        "id": "GiJ3i_gUX88V",
        "outputId": "957442f9-2d05-47e5-db01-9e14f6c5b11d",
        "colab": {
          "base_uri": "https://localhost:8080/"
        }
      },
      "id": "GiJ3i_gUX88V",
      "execution_count": 7,
      "outputs": [
        {
          "output_type": "stream",
          "name": "stdout",
          "text": [
            "[ 4.28130000e+00  2.40000000e+01  4.33986928e+00  9.47712418e-01\n",
            "  1.01200000e+03  3.30718954e+00  3.37600000e+01 -1.17960000e+02] \n",
            " 1.895\n",
            "[   2.9737       37.            4.58008658    0.96969697  588.\n",
            "    2.54545455   38.53       -121.41      ] \n",
            " 0.721\n"
          ]
        }
      ]
    },
    {
      "cell_type": "code",
      "source": [
        "ds.shuffle(buffer_size=1024)"
      ],
      "metadata": {
        "id": "QKJJKd71u49I",
        "outputId": "443cef91-a403-4c69-c9c9-3e98058d62f0",
        "colab": {
          "base_uri": "https://localhost:8080/"
        }
      },
      "id": "QKJJKd71u49I",
      "execution_count": 8,
      "outputs": [
        {
          "output_type": "execute_result",
          "data": {
            "text/plain": [
              "<_ShuffleDataset element_spec=(TensorSpec(shape=(8,), dtype=tf.float64, name=None), TensorSpec(shape=(), dtype=tf.float64, name=None))>"
            ]
          },
          "metadata": {},
          "execution_count": 8
        }
      ]
    },
    {
      "cell_type": "code",
      "source": [
        "ds=ds.batch(64)"
      ],
      "metadata": {
        "id": "70WyZbtXvDTf"
      },
      "id": "70WyZbtXvDTf",
      "execution_count": 9,
      "outputs": []
    },
    {
      "cell_type": "code",
      "source": [
        "len(ds)"
      ],
      "metadata": {
        "id": "aipcHTFmvJem",
        "outputId": "6df8fc6f-2bb6-4dc6-c2e0-4cd4c610474a",
        "colab": {
          "base_uri": "https://localhost:8080/"
        }
      },
      "id": "aipcHTFmvJem",
      "execution_count": 11,
      "outputs": [
        {
          "output_type": "execute_result",
          "data": {
            "text/plain": [
              "242"
            ]
          },
          "metadata": {},
          "execution_count": 11
        }
      ]
    },
    {
      "cell_type": "code",
      "source": [
        "ds=ds.unbatch()"
      ],
      "metadata": {
        "id": "2c7tGtjOvN09"
      },
      "id": "2c7tGtjOvN09",
      "execution_count": 14,
      "outputs": []
    },
    {
      "cell_type": "code",
      "source": [
        "ds.save(\"./dset.dataset\")"
      ],
      "metadata": {
        "id": "yJEAKqoFZ7mw"
      },
      "id": "yJEAKqoFZ7mw",
      "execution_count": null,
      "outputs": []
    },
    {
      "cell_type": "code",
      "source": [
        "newds=ds.load(\"./dset.dataset\")"
      ],
      "metadata": {
        "id": "Ohfs4jH-Z7jU"
      },
      "id": "Ohfs4jH-Z7jU",
      "execution_count": null,
      "outputs": []
    },
    {
      "cell_type": "markdown",
      "source": [
        "# TFRecords"
      ],
      "metadata": {
        "id": "w1i9xHYqeLvz"
      },
      "id": "w1i9xHYqeLvz"
    },
    {
      "cell_type": "code",
      "source": [],
      "metadata": {
        "id": "-gLl8AuAePfT"
      },
      "id": "-gLl8AuAePfT",
      "execution_count": null,
      "outputs": []
    },
    {
      "cell_type": "code",
      "source": [],
      "metadata": {
        "id": "xgnlEJZyePBZ"
      },
      "id": "xgnlEJZyePBZ",
      "execution_count": null,
      "outputs": []
    },
    {
      "cell_type": "markdown",
      "source": [
        "# TFDS\n",
        "TFDS is a high level wrapper around `tf.data.`"
      ],
      "metadata": {
        "id": "dd2dPOZTdazx"
      },
      "id": "dd2dPOZTdazx"
    },
    {
      "cell_type": "code",
      "source": [],
      "metadata": {
        "id": "ZkYwE7wTZ7fR"
      },
      "id": "ZkYwE7wTZ7fR",
      "execution_count": null,
      "outputs": []
    },
    {
      "cell_type": "code",
      "source": [],
      "metadata": {
        "id": "OJx2GhmvZ7Tr"
      },
      "id": "OJx2GhmvZ7Tr",
      "execution_count": null,
      "outputs": []
    },
    {
      "cell_type": "code",
      "source": [
        "import numpy as np\n",
        "c=np.array([[1,2,3],[5,6,7],[9,10,11]])\n",
        "d=np.array([[4,8,12]])"
      ],
      "metadata": {
        "id": "IbbNyGOJVHOf"
      },
      "id": "IbbNyGOJVHOf",
      "execution_count": null,
      "outputs": []
    },
    {
      "cell_type": "code",
      "source": [
        "np.concatenate([c,d.T],axis=1)"
      ],
      "metadata": {
        "id": "ixje3ezOVvmR",
        "outputId": "6a1acd4c-0e8f-4243-af44-6f83e08190f9",
        "colab": {
          "base_uri": "https://localhost:8080/"
        }
      },
      "id": "ixje3ezOVvmR",
      "execution_count": null,
      "outputs": [
        {
          "output_type": "execute_result",
          "data": {
            "text/plain": [
              "array([[ 1,  2,  3,  4],\n",
              "       [ 5,  6,  7,  8],\n",
              "       [ 9, 10, 11, 12]])"
            ]
          },
          "metadata": {},
          "execution_count": 43
        }
      ]
    },
    {
      "cell_type": "code",
      "source": [
        "np.concatenate([c,d],axis=0)"
      ],
      "metadata": {
        "id": "KSTYwcP-V5hH",
        "outputId": "f220d7f8-c105-481c-af97-f2b1d207d7e4",
        "colab": {
          "base_uri": "https://localhost:8080/"
        }
      },
      "id": "KSTYwcP-V5hH",
      "execution_count": null,
      "outputs": [
        {
          "output_type": "execute_result",
          "data": {
            "text/plain": [
              "array([[ 1,  2,  3],\n",
              "       [ 5,  6,  7],\n",
              "       [ 9, 10, 11],\n",
              "       [ 4,  8, 12]])"
            ]
          },
          "metadata": {},
          "execution_count": 44
        }
      ]
    },
    {
      "cell_type": "code",
      "source": [],
      "metadata": {
        "id": "5jnrpclTWoTh"
      },
      "id": "5jnrpclTWoTh",
      "execution_count": null,
      "outputs": []
    }
  ],
  "metadata": {
    "colab": {
      "provenance": [],
      "include_colab_link": true
    },
    "language_info": {
      "name": "python"
    },
    "kernelspec": {
      "name": "python3",
      "display_name": "Python 3"
    }
  },
  "nbformat": 4,
  "nbformat_minor": 5
}