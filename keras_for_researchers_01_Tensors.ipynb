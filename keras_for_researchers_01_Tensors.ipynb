{
  "cells": [
    {
      "cell_type": "markdown",
      "metadata": {
        "id": "view-in-github",
        "colab_type": "text"
      },
      "source": [
        "<a href=\"https://colab.research.google.com/github/habilg/keras_advanced/blob/master/keras_for_researchers_01_Tensors.ipynb\" target=\"_parent\"><img src=\"https://colab.research.google.com/assets/colab-badge.svg\" alt=\"Open In Colab\"/></a>"
      ]
    },
    {
      "cell_type": "code",
      "execution_count": null,
      "metadata": {
        "id": "eo0Ir1YVcCMt"
      },
      "outputs": [],
      "source": [
        "import tensorflow as tf\n",
        "import numpy as np"
      ]
    },
    {
      "cell_type": "code",
      "execution_count": null,
      "metadata": {
        "id": "b2KjWz1_nTBM"
      },
      "outputs": [],
      "source": [
        "x=tf.constant([[1,2],[3,4]])"
      ]
    },
    {
      "cell_type": "code",
      "execution_count": null,
      "metadata": {
        "colab": {
          "base_uri": "https://localhost:8080/"
        },
        "id": "afRjyq1AnkyJ",
        "outputId": "86e3a729-e3ac-485b-c8bf-ec7efd21c8b9"
      },
      "outputs": [
        {
          "output_type": "execute_result",
          "data": {
            "text/plain": [
              "TensorShape([2, 2])"
            ]
          },
          "metadata": {},
          "execution_count": 3
        }
      ],
      "source": [
        "x.shape"
      ]
    },
    {
      "cell_type": "code",
      "execution_count": null,
      "metadata": {
        "colab": {
          "base_uri": "https://localhost:8080/"
        },
        "id": "B35hC5QXnnDc",
        "outputId": "7470401b-ea92-47c4-f87e-2fd087bca1b4"
      },
      "outputs": [
        {
          "output_type": "execute_result",
          "data": {
            "text/plain": [
              "tf.int32"
            ]
          },
          "metadata": {},
          "execution_count": 4
        }
      ],
      "source": [
        "x.dtype"
      ]
    },
    {
      "cell_type": "code",
      "execution_count": null,
      "metadata": {
        "colab": {
          "base_uri": "https://localhost:8080/"
        },
        "id": "fAiFuVmBnpNN",
        "outputId": "f879d01c-d2f9-4cbf-a840-b06fce0a33bf"
      },
      "outputs": [
        {
          "output_type": "execute_result",
          "data": {
            "text/plain": [
              "array([[1, 2],\n",
              "       [3, 4]], dtype=int32)"
            ]
          },
          "metadata": {},
          "execution_count": 5
        }
      ],
      "source": [
        "x.numpy()"
      ]
    },
    {
      "cell_type": "code",
      "execution_count": null,
      "metadata": {
        "id": "f7WEDvdNnyA_"
      },
      "outputs": [],
      "source": [
        "x=tf.Variable([[1,2],[3,4]])"
      ]
    },
    {
      "cell_type": "code",
      "execution_count": null,
      "metadata": {
        "id": "vsP_5JqyoYTq"
      },
      "outputs": [],
      "source": [
        "np_arr=np.array([[5,6],[7,8]])\n",
        "y=tf.Variable(np_arr)"
      ]
    },
    {
      "cell_type": "code",
      "execution_count": null,
      "metadata": {
        "colab": {
          "base_uri": "https://localhost:8080/"
        },
        "id": "6gI5wWv8TduX",
        "outputId": "22c972b0-1a45-4569-f444-33627ca9b97e"
      },
      "outputs": [
        {
          "output_type": "execute_result",
          "data": {
            "text/plain": [
              "<tf.Tensor: shape=(2, 3), dtype=float32, numpy=\n",
              "array([[1., 1., 1.],\n",
              "       [1., 1., 1.]], dtype=float32)>"
            ]
          },
          "metadata": {},
          "execution_count": 8
        }
      ],
      "source": [
        "z=tf.ones(shape=(2,3)) #zeros\n",
        "z"
      ]
    },
    {
      "cell_type": "code",
      "execution_count": null,
      "metadata": {
        "colab": {
          "base_uri": "https://localhost:8080/"
        },
        "id": "0EHLFIKLUjO5",
        "outputId": "bd20ef60-593e-4735-ae4c-897602b571af"
      },
      "outputs": [
        {
          "output_type": "execute_result",
          "data": {
            "text/plain": [
              "<tf.Tensor: shape=(2, 3), dtype=float32, numpy=\n",
              "array([[0.9452318 , 0.03455603, 0.5051671 ],\n",
              "       [0.5030968 , 0.52672195, 0.19076169]], dtype=float32)>"
            ]
          },
          "metadata": {},
          "execution_count": 9
        }
      ],
      "source": [
        "random_uniform=tf.random.uniform(shape=(2,3),minval=0,maxval=1)\n",
        "random_uniform"
      ]
    },
    {
      "cell_type": "code",
      "execution_count": null,
      "metadata": {
        "colab": {
          "base_uri": "https://localhost:8080/"
        },
        "id": "MjyVJ8_HU6bC",
        "outputId": "890e9d7b-6a69-48ad-fb5b-b66af784a832"
      },
      "outputs": [
        {
          "output_type": "execute_result",
          "data": {
            "text/plain": [
              "<tf.Tensor: shape=(2, 3), dtype=float32, numpy=\n",
              "array([[ 0.30780753, -1.1121861 ,  0.13558385],\n",
              "       [-0.400321  , -1.165175  ,  1.0382717 ]], dtype=float32)>"
            ]
          },
          "metadata": {},
          "execution_count": 10
        }
      ],
      "source": [
        "random_normal = tf.random.normal(shape=(2,3),mean=0,stddev=1) #gamma,poison\n",
        "random_normal"
      ]
    },
    {
      "cell_type": "markdown",
      "metadata": {
        "id": "A1Rkd3e_Vrkx"
      },
      "source": [
        "# Indexing and Slicing"
      ]
    },
    {
      "cell_type": "code",
      "execution_count": null,
      "metadata": {
        "colab": {
          "base_uri": "https://localhost:8080/"
        },
        "id": "Hq7ALRTkVfh3",
        "outputId": "d10088d0-d250-4f14-c7ae-a87f80251ddd"
      },
      "outputs": [
        {
          "output_type": "execute_result",
          "data": {
            "text/plain": [
              "<tf.Tensor: shape=(3,), dtype=float32, numpy=array([ 0.30780753, -1.1121861 ,  0.13558385], dtype=float32)>"
            ]
          },
          "metadata": {},
          "execution_count": 11
        }
      ],
      "source": [
        "random_normal[0]"
      ]
    },
    {
      "cell_type": "code",
      "execution_count": null,
      "metadata": {
        "colab": {
          "base_uri": "https://localhost:8080/"
        },
        "id": "QeqcwtuOXj1r",
        "outputId": "af6e5b7d-a2b0-4019-c4bb-561625e90808"
      },
      "outputs": [
        {
          "output_type": "execute_result",
          "data": {
            "text/plain": [
              "<tf.Tensor: shape=(), dtype=float32, numpy=0.30780753>"
            ]
          },
          "metadata": {},
          "execution_count": 12
        }
      ],
      "source": [
        "random_normal[0,0]"
      ]
    },
    {
      "cell_type": "code",
      "execution_count": null,
      "metadata": {
        "colab": {
          "base_uri": "https://localhost:8080/"
        },
        "id": "f3Igzy7iXlvg",
        "outputId": "a114c019-b1b1-47f9-d899-8bc4ea01b8b6"
      },
      "outputs": [
        {
          "output_type": "execute_result",
          "data": {
            "text/plain": [
              "<tf.Tensor: shape=(), dtype=float32, numpy=1.0382717>"
            ]
          },
          "metadata": {},
          "execution_count": 13
        }
      ],
      "source": [
        "random_normal[-1,-1]"
      ]
    },
    {
      "cell_type": "code",
      "execution_count": null,
      "metadata": {
        "colab": {
          "base_uri": "https://localhost:8080/"
        },
        "id": "V6VezvObXovV",
        "outputId": "d54ac1de-76e2-4f31-f591-25c689360586"
      },
      "outputs": [
        {
          "data": {
            "text/plain": [
              "<tf.Tensor: shape=(2,), dtype=float32, numpy=array([ 0.48910946, -1.6059475 ], dtype=float32)>"
            ]
          },
          "execution_count": 18,
          "metadata": {},
          "output_type": "execute_result"
        }
      ],
      "source": [
        "random_normal[:,1]"
      ]
    },
    {
      "cell_type": "markdown",
      "metadata": {
        "id": "vmipprh6XtWg"
      },
      "source": [
        "# Tensor Manipulation\n",
        "assign value  \n",
        "reshape  \n",
        "expand dimentions  \n",
        "squeeze  \n",
        "Flatten  \n",
        "concatenate  \n",
        "stack  \n",
        "\n"
      ]
    },
    {
      "cell_type": "markdown",
      "source": [
        "## assign a value"
      ],
      "metadata": {
        "id": "6HV3hcaUOhoW"
      }
    },
    {
      "cell_type": "code",
      "source": [
        "a= tf.Variable([[3,4,8],[1,7,2]])\n",
        "a"
      ],
      "metadata": {
        "colab": {
          "base_uri": "https://localhost:8080/"
        },
        "id": "5T2h0H3n6l8d",
        "outputId": "a7914024-5f32-4db4-e3a8-35a057f6454c"
      },
      "execution_count": null,
      "outputs": [
        {
          "output_type": "execute_result",
          "data": {
            "text/plain": [
              "<tf.Variable 'Variable:0' shape=(2, 3) dtype=int32, numpy=\n",
              "array([[3, 4, 8],\n",
              "       [1, 7, 2]], dtype=int32)>"
            ]
          },
          "metadata": {},
          "execution_count": 44
        }
      ]
    },
    {
      "cell_type": "code",
      "source": [
        "a[0,0].assign(100)\n",
        "a"
      ],
      "metadata": {
        "colab": {
          "base_uri": "https://localhost:8080/"
        },
        "id": "zubOho3_7DAU",
        "outputId": "75a389cd-dfa5-4afb-b807-dc2cc63968fb"
      },
      "execution_count": null,
      "outputs": [
        {
          "output_type": "execute_result",
          "data": {
            "text/plain": [
              "<tf.Variable 'Variable:0' shape=(2, 3) dtype=int32, numpy=\n",
              "array([[100,   4,   8],\n",
              "       [  1,   7,   2]], dtype=int32)>"
            ]
          },
          "metadata": {},
          "execution_count": 45
        }
      ]
    },
    {
      "cell_type": "code",
      "source": [
        "a[0].assign(10)\n",
        "a"
      ],
      "metadata": {
        "colab": {
          "base_uri": "https://localhost:8080/"
        },
        "id": "6Vf6f-KR7JjW",
        "outputId": "c4862eda-14dd-4670-cb9d-d892acef83ea"
      },
      "execution_count": null,
      "outputs": [
        {
          "output_type": "execute_result",
          "data": {
            "text/plain": [
              "<tf.Variable 'Variable:0' shape=(2, 3) dtype=int32, numpy=\n",
              "array([[10, 10, 10],\n",
              "       [ 1,  7,  2]], dtype=int32)>"
            ]
          },
          "metadata": {},
          "execution_count": 46
        }
      ]
    },
    {
      "cell_type": "code",
      "source": [
        "a[:,1].assign(0)\n",
        "a"
      ],
      "metadata": {
        "colab": {
          "base_uri": "https://localhost:8080/"
        },
        "id": "CN6y5i307PvL",
        "outputId": "a326b57e-bf60-4080-cf31-a37f38de7534"
      },
      "execution_count": null,
      "outputs": [
        {
          "output_type": "execute_result",
          "data": {
            "text/plain": [
              "<tf.Variable 'Variable:0' shape=(2, 3) dtype=int32, numpy=\n",
              "array([[10,  0, 10],\n",
              "       [ 1,  0,  2]], dtype=int32)>"
            ]
          },
          "metadata": {},
          "execution_count": 47
        }
      ]
    },
    {
      "cell_type": "markdown",
      "source": [
        "## reshape "
      ],
      "metadata": {
        "id": "0HsZ4Ou8OpQW"
      }
    },
    {
      "cell_type": "code",
      "execution_count": null,
      "metadata": {
        "colab": {
          "base_uri": "https://localhost:8080/"
        },
        "id": "d354nTyclSKr",
        "outputId": "3d6ab9cc-674c-48bf-c9a5-124d51632da0"
      },
      "outputs": [
        {
          "output_type": "execute_result",
          "data": {
            "text/plain": [
              "<tf.Tensor: shape=(2, 3), dtype=int32, numpy=\n",
              "array([[3, 4, 8],\n",
              "       [1, 7, 2]], dtype=int32)>"
            ]
          },
          "metadata": {},
          "execution_count": 48
        }
      ],
      "source": [
        "a=tf.constant([3,4,8,1,7,2]) #define a tensor of shape [6]\n",
        "b=tf.constant([[7,8,9,10],[4,5,6,7]]) #define a tensor of shape [2,4]\n",
        "aNew=tf.reshape(a, [2,3])\n",
        "aNew"
      ]
    },
    {
      "cell_type": "code",
      "execution_count": null,
      "metadata": {
        "colab": {
          "base_uri": "https://localhost:8080/"
        },
        "id": "wVW56sq-mK5V",
        "outputId": "f97169eb-438d-4375-da6f-5230557fc093"
      },
      "outputs": [
        {
          "output_type": "execute_result",
          "data": {
            "text/plain": [
              "<tf.Tensor: shape=(4, 2), dtype=int32, numpy=\n",
              "array([[ 7,  8],\n",
              "       [ 9, 10],\n",
              "       [ 4,  5],\n",
              "       [ 6,  7]], dtype=int32)>"
            ]
          },
          "metadata": {},
          "execution_count": 49
        }
      ],
      "source": [
        "bNew=tf.reshape(b, [4,2]) #store the output in new tensors\n",
        "bNew"
      ]
    },
    {
      "cell_type": "markdown",
      "source": [
        "### Flatten"
      ],
      "metadata": {
        "id": "kVFT2wC3OxIF"
      }
    },
    {
      "cell_type": "code",
      "execution_count": null,
      "metadata": {
        "colab": {
          "base_uri": "https://localhost:8080/"
        },
        "id": "81Ta_3MSmQH5",
        "outputId": "a552d0f9-608f-4cb6-eb6e-e3bacb84b944"
      },
      "outputs": [
        {
          "output_type": "execute_result",
          "data": {
            "text/plain": [
              "array([3, 4, 8, 1, 7, 2], dtype=int32)"
            ]
          },
          "metadata": {},
          "execution_count": 50
        }
      ],
      "source": [
        "aFlatten=tf.reshape(aNew,[-1])\n",
        "aFlatten.numpy()"
      ]
    },
    {
      "cell_type": "code",
      "execution_count": null,
      "metadata": {
        "colab": {
          "base_uri": "https://localhost:8080/"
        },
        "id": "IfT7UEsSmkT2",
        "outputId": "2c4793f9-ce5d-4056-ac54-e4145cb2ae90"
      },
      "outputs": [
        {
          "output_type": "execute_result",
          "data": {
            "text/plain": [
              "array([ 7,  8,  9, 10,  4,  5,  6,  7], dtype=int32)"
            ]
          },
          "metadata": {},
          "execution_count": 51
        }
      ],
      "source": [
        "bFlatten=tf.reshape(bNew,[-1])\n",
        "bFlatten.numpy()"
      ]
    },
    {
      "cell_type": "markdown",
      "source": [
        "## Dimention expansion"
      ],
      "metadata": {
        "id": "0F9bJyy7O2gi"
      }
    },
    {
      "cell_type": "code",
      "execution_count": null,
      "metadata": {
        "colab": {
          "base_uri": "https://localhost:8080/"
        },
        "id": "wryqSldjngHz",
        "outputId": "3dc28dbf-9fed-409c-8d22-2c79a2b13bdc"
      },
      "outputs": [
        {
          "output_type": "execute_result",
          "data": {
            "text/plain": [
              "<tf.Tensor: shape=(1, 6), dtype=int32, numpy=array([[3, 4, 8, 1, 7, 2]], dtype=int32)>"
            ]
          },
          "metadata": {},
          "execution_count": 52
        }
      ],
      "source": [
        "tf.expand_dims(a,0) #for batch"
      ]
    },
    {
      "cell_type": "code",
      "execution_count": null,
      "metadata": {
        "colab": {
          "base_uri": "https://localhost:8080/"
        },
        "id": "lXjLZnZnoDfY",
        "outputId": "ec240186-1d69-4264-f837-997c2a5677e9"
      },
      "outputs": [
        {
          "output_type": "execute_result",
          "data": {
            "text/plain": [
              "array([[[ 7,  8,  9, 10],\n",
              "        [ 4,  5,  6,  7]]], dtype=int32)"
            ]
          },
          "metadata": {},
          "execution_count": 53
        }
      ],
      "source": [
        "b_expand_dim=tf.expand_dims(b,0)\n",
        "b_expand_dim.numpy()"
      ]
    },
    {
      "cell_type": "code",
      "execution_count": null,
      "metadata": {
        "colab": {
          "base_uri": "https://localhost:8080/"
        },
        "id": "8dfqoMUPoVGi",
        "outputId": "e192a46d-c216-41e8-aec7-595fd5f02995"
      },
      "outputs": [
        {
          "output_type": "execute_result",
          "data": {
            "text/plain": [
              "TensorShape([1, 2, 4])"
            ]
          },
          "metadata": {},
          "execution_count": 54
        }
      ],
      "source": [
        "b_expand_dim.shape"
      ]
    },
    {
      "cell_type": "code",
      "execution_count": null,
      "metadata": {
        "colab": {
          "base_uri": "https://localhost:8080/"
        },
        "id": "7tT3Sqg1oX6k",
        "outputId": "05555f93-cc82-4fa5-e822-50377ad5627e"
      },
      "outputs": [
        {
          "output_type": "execute_result",
          "data": {
            "text/plain": [
              "array([[[ 7],\n",
              "        [ 8],\n",
              "        [ 9],\n",
              "        [10]],\n",
              "\n",
              "       [[ 4],\n",
              "        [ 5],\n",
              "        [ 6],\n",
              "        [ 7]]], dtype=int32)"
            ]
          },
          "metadata": {},
          "execution_count": 55
        }
      ],
      "source": [
        "b_expanded_negative=tf.expand_dims(b,-1)\n",
        "b_expanded_negative.numpy()"
      ]
    },
    {
      "cell_type": "code",
      "execution_count": null,
      "metadata": {
        "colab": {
          "base_uri": "https://localhost:8080/"
        },
        "id": "pue8Mb4roscu",
        "outputId": "1a6b3e40-513d-422e-d141-02440ecd34f5"
      },
      "outputs": [
        {
          "output_type": "execute_result",
          "data": {
            "text/plain": [
              "TensorShape([2, 4, 1])"
            ]
          },
          "metadata": {},
          "execution_count": 56
        }
      ],
      "source": [
        "b_expanded_negative.shape"
      ]
    },
    {
      "cell_type": "code",
      "execution_count": null,
      "metadata": {
        "colab": {
          "base_uri": "https://localhost:8080/"
        },
        "id": "gAzkwUgLqL0p",
        "outputId": "f27a903d-15a9-45b8-80b2-5963c31a4b7e"
      },
      "outputs": [
        {
          "output_type": "execute_result",
          "data": {
            "text/plain": [
              "TensorShape([2, 4])"
            ]
          },
          "metadata": {},
          "execution_count": 57
        }
      ],
      "source": [
        "b_squeezed=tf.squeeze(b_expanded_negative)\n",
        "b_squeezed.shape"
      ]
    },
    {
      "cell_type": "markdown",
      "source": [
        "## Concatenation"
      ],
      "metadata": {
        "id": "F6_Qy9bcO-5K"
      }
    },
    {
      "cell_type": "code",
      "execution_count": null,
      "metadata": {
        "id": "I1mEY4xetNnk",
        "colab": {
          "base_uri": "https://localhost:8080/"
        },
        "outputId": "50ff1a59-3ddc-40e9-87a9-ed380aa976df"
      },
      "outputs": [
        {
          "output_type": "execute_result",
          "data": {
            "text/plain": [
              "<tf.Tensor: shape=(4, 4, 3), dtype=int32, numpy=\n",
              "array([[[75,  5, 86],\n",
              "        [24, 36,  4],\n",
              "        [ 9, 51, 19],\n",
              "        [48, 51, 50]],\n",
              "\n",
              "       [[92, 72, 84],\n",
              "        [85, 54, 22],\n",
              "        [42, 15, 95],\n",
              "        [38, 55, 68]],\n",
              "\n",
              "       [[23, 28, 66],\n",
              "        [91,  2, 21],\n",
              "        [11, 55, 19],\n",
              "        [78, 92, 76]],\n",
              "\n",
              "       [[32, 70, 33],\n",
              "        [14, 57, 30],\n",
              "        [43, 39, 36],\n",
              "        [36, 57, 61]]], dtype=int32)>"
            ]
          },
          "metadata": {},
          "execution_count": 58
        }
      ],
      "source": [
        "a1=tf.random.uniform(shape=(4,4,3),minval=0,maxval=100,dtype=tf.int32)\n",
        "a1"
      ]
    },
    {
      "cell_type": "code",
      "source": [
        "a1_0=a1[:,:,0]\n",
        "a1_0"
      ],
      "metadata": {
        "colab": {
          "base_uri": "https://localhost:8080/"
        },
        "id": "asdCBn_Vsugs",
        "outputId": "973a8d50-05dc-4a13-9661-214cd3f08760"
      },
      "execution_count": null,
      "outputs": [
        {
          "output_type": "execute_result",
          "data": {
            "text/plain": [
              "<tf.Tensor: shape=(4, 4), dtype=int32, numpy=\n",
              "array([[75, 24,  9, 48],\n",
              "       [92, 85, 42, 38],\n",
              "       [23, 91, 11, 78],\n",
              "       [32, 14, 43, 36]], dtype=int32)>"
            ]
          },
          "metadata": {},
          "execution_count": 59
        }
      ]
    },
    {
      "cell_type": "code",
      "source": [
        "a1_1=a1[:,:,1]\n",
        "a1_1"
      ],
      "metadata": {
        "colab": {
          "base_uri": "https://localhost:8080/"
        },
        "id": "p-5MpyTssuJc",
        "outputId": "d31bd0c7-88ae-41a6-94c5-925f93d06f17"
      },
      "execution_count": null,
      "outputs": [
        {
          "output_type": "execute_result",
          "data": {
            "text/plain": [
              "<tf.Tensor: shape=(4, 4), dtype=int32, numpy=\n",
              "array([[ 5, 36, 51, 51],\n",
              "       [72, 54, 15, 55],\n",
              "       [28,  2, 55, 92],\n",
              "       [70, 57, 39, 57]], dtype=int32)>"
            ]
          },
          "metadata": {},
          "execution_count": 60
        }
      ]
    },
    {
      "cell_type": "code",
      "source": [
        "a1_2=a1[:,:,2]\n",
        "a1_2"
      ],
      "metadata": {
        "colab": {
          "base_uri": "https://localhost:8080/"
        },
        "id": "8rIe6h9Cst_4",
        "outputId": "a57fc099-9688-49fe-9573-c408fbb0c79f"
      },
      "execution_count": null,
      "outputs": [
        {
          "output_type": "execute_result",
          "data": {
            "text/plain": [
              "<tf.Tensor: shape=(4, 4), dtype=int32, numpy=\n",
              "array([[86,  4, 19, 50],\n",
              "       [84, 22, 95, 68],\n",
              "       [66, 21, 19, 76],\n",
              "       [33, 30, 36, 61]], dtype=int32)>"
            ]
          },
          "metadata": {},
          "execution_count": 61
        }
      ]
    },
    {
      "cell_type": "code",
      "source": [
        "a1_concat_0=tf.concat([a1_0,a1_1,a1_2],0) #0-> rows\n",
        "a1_concat_0.shape"
      ],
      "metadata": {
        "colab": {
          "base_uri": "https://localhost:8080/"
        },
        "id": "BPoTPXAistyR",
        "outputId": "0197f5bb-dec0-4a34-a3f4-e0bcde5ea978"
      },
      "execution_count": null,
      "outputs": [
        {
          "output_type": "execute_result",
          "data": {
            "text/plain": [
              "TensorShape([12, 4])"
            ]
          },
          "metadata": {},
          "execution_count": 62
        }
      ]
    },
    {
      "cell_type": "code",
      "source": [
        "a1_concat_0"
      ],
      "metadata": {
        "colab": {
          "base_uri": "https://localhost:8080/"
        },
        "id": "Exv9xzNAtQqZ",
        "outputId": "eeed8538-e5cb-4515-de7e-b48c0466f899"
      },
      "execution_count": null,
      "outputs": [
        {
          "output_type": "execute_result",
          "data": {
            "text/plain": [
              "<tf.Tensor: shape=(12, 4), dtype=int32, numpy=\n",
              "array([[75, 24,  9, 48],\n",
              "       [92, 85, 42, 38],\n",
              "       [23, 91, 11, 78],\n",
              "       [32, 14, 43, 36],\n",
              "       [ 5, 36, 51, 51],\n",
              "       [72, 54, 15, 55],\n",
              "       [28,  2, 55, 92],\n",
              "       [70, 57, 39, 57],\n",
              "       [86,  4, 19, 50],\n",
              "       [84, 22, 95, 68],\n",
              "       [66, 21, 19, 76],\n",
              "       [33, 30, 36, 61]], dtype=int32)>"
            ]
          },
          "metadata": {},
          "execution_count": 63
        }
      ]
    },
    {
      "cell_type": "code",
      "source": [
        "a1_concat_1=tf.concat([a1_0,a1_1,a1_2],1) #1 -> cols\n",
        "a1_concat_1.shape"
      ],
      "metadata": {
        "colab": {
          "base_uri": "https://localhost:8080/"
        },
        "id": "UFR9tuHitQch",
        "outputId": "1cc3682c-b2d9-436c-bf9e-1a39da2f9d19"
      },
      "execution_count": null,
      "outputs": [
        {
          "output_type": "execute_result",
          "data": {
            "text/plain": [
              "TensorShape([4, 12])"
            ]
          },
          "metadata": {},
          "execution_count": 64
        }
      ]
    },
    {
      "cell_type": "code",
      "source": [
        "a1_concat_1"
      ],
      "metadata": {
        "colab": {
          "base_uri": "https://localhost:8080/"
        },
        "id": "4q5CNJAwyHgQ",
        "outputId": "0d29a2d6-3ce2-4561-833c-2288e945ec46"
      },
      "execution_count": null,
      "outputs": [
        {
          "output_type": "execute_result",
          "data": {
            "text/plain": [
              "<tf.Tensor: shape=(4, 12), dtype=int32, numpy=\n",
              "array([[75, 24,  9, 48,  5, 36, 51, 51, 86,  4, 19, 50],\n",
              "       [92, 85, 42, 38, 72, 54, 15, 55, 84, 22, 95, 68],\n",
              "       [23, 91, 11, 78, 28,  2, 55, 92, 66, 21, 19, 76],\n",
              "       [32, 14, 43, 36, 70, 57, 39, 57, 33, 30, 36, 61]], dtype=int32)>"
            ]
          },
          "metadata": {},
          "execution_count": 65
        }
      ]
    },
    {
      "cell_type": "markdown",
      "source": [
        "## Stacking"
      ],
      "metadata": {
        "id": "BYtRrwaNPVDD"
      }
    },
    {
      "cell_type": "code",
      "source": [
        "a1_stack_0=tf.stack([a1_0,a1_1,a1_2],0) #0\n",
        "a1_stack_0.shape"
      ],
      "metadata": {
        "colab": {
          "base_uri": "https://localhost:8080/"
        },
        "id": "xo0JNiK6yagi",
        "outputId": "f14336db-2c85-46ac-94ca-489f8db9e429"
      },
      "execution_count": null,
      "outputs": [
        {
          "output_type": "execute_result",
          "data": {
            "text/plain": [
              "TensorShape([3, 4, 4])"
            ]
          },
          "metadata": {},
          "execution_count": 66
        }
      ]
    },
    {
      "cell_type": "code",
      "source": [
        "a1_stack_0[0]"
      ],
      "metadata": {
        "colab": {
          "base_uri": "https://localhost:8080/"
        },
        "id": "WqP4bNZMy2ZP",
        "outputId": "624334c4-dfef-4e37-f436-728fdd3e1ae6"
      },
      "execution_count": null,
      "outputs": [
        {
          "output_type": "execute_result",
          "data": {
            "text/plain": [
              "<tf.Tensor: shape=(4, 4), dtype=int32, numpy=\n",
              "array([[75, 24,  9, 48],\n",
              "       [92, 85, 42, 38],\n",
              "       [23, 91, 11, 78],\n",
              "       [32, 14, 43, 36]], dtype=int32)>"
            ]
          },
          "metadata": {},
          "execution_count": 67
        }
      ]
    },
    {
      "cell_type": "code",
      "execution_count": null,
      "metadata": {
        "id": "sCmh9tX8cEaA",
        "colab": {
          "base_uri": "https://localhost:8080/"
        },
        "outputId": "7cd7217f-40fe-4368-b646-efd3b01f44a7"
      },
      "outputs": [
        {
          "output_type": "execute_result",
          "data": {
            "text/plain": [
              "TensorShape([4, 3, 4])"
            ]
          },
          "metadata": {},
          "execution_count": 68
        }
      ],
      "source": [
        "a1_stack_1=tf.stack([a1_0,a1_1,a1_2],1) #1\n",
        "a1_stack_1.shape"
      ]
    },
    {
      "cell_type": "code",
      "source": [
        "a1_stack_1[0]"
      ],
      "metadata": {
        "colab": {
          "base_uri": "https://localhost:8080/"
        },
        "id": "ItccEewqsmJN",
        "outputId": "13c4eef8-fc4d-4a52-dd62-9664a260949d"
      },
      "execution_count": null,
      "outputs": [
        {
          "output_type": "execute_result",
          "data": {
            "text/plain": [
              "<tf.Tensor: shape=(3, 4), dtype=int32, numpy=\n",
              "array([[75, 24,  9, 48],\n",
              "       [ 5, 36, 51, 51],\n",
              "       [86,  4, 19, 50]], dtype=int32)>"
            ]
          },
          "metadata": {},
          "execution_count": 69
        }
      ]
    },
    {
      "cell_type": "code",
      "source": [
        "a1_stack_2=tf.stack([a1_0,a1_1,a1_2],2) #2 or -1\n",
        "a1_stack_2.shape"
      ],
      "metadata": {
        "colab": {
          "base_uri": "https://localhost:8080/"
        },
        "id": "p8SGYVbXsl6M",
        "outputId": "1c102a83-84ef-4f5b-c62c-e16380a63d5d"
      },
      "execution_count": null,
      "outputs": [
        {
          "output_type": "execute_result",
          "data": {
            "text/plain": [
              "TensorShape([4, 4, 3])"
            ]
          },
          "metadata": {},
          "execution_count": 70
        }
      ]
    },
    {
      "cell_type": "code",
      "source": [
        "a1_stack_2[0]"
      ],
      "metadata": {
        "colab": {
          "base_uri": "https://localhost:8080/"
        },
        "id": "2q5kp1ajsllm",
        "outputId": "bee39e90-148d-4c42-bb1f-c8bb2a3f7807"
      },
      "execution_count": null,
      "outputs": [
        {
          "output_type": "execute_result",
          "data": {
            "text/plain": [
              "<tf.Tensor: shape=(4, 3), dtype=int32, numpy=\n",
              "array([[75,  5, 86],\n",
              "       [24, 36,  4],\n",
              "       [ 9, 51, 19],\n",
              "       [48, 51, 50]], dtype=int32)>"
            ]
          },
          "metadata": {},
          "execution_count": 71
        }
      ]
    },
    {
      "cell_type": "code",
      "source": [],
      "metadata": {
        "id": "9tPGdPg5z9iM"
      },
      "execution_count": null,
      "outputs": []
    },
    {
      "cell_type": "markdown",
      "source": [
        "# Math\n",
        "reduce  \n",
        "elementwise sum  \n",
        "elementwise multiply  \n",
        "matrix multiply   "
      ],
      "metadata": {
        "id": "N5H8asdm6DBk"
      }
    },
    {
      "cell_type": "code",
      "source": [
        "a= tf.Variable([[3,4,8],[1,7,2]])\n"
      ],
      "metadata": {
        "id": "IGtuBOLiP9zi"
      },
      "execution_count": null,
      "outputs": []
    },
    {
      "cell_type": "code",
      "execution_count": null,
      "metadata": {
        "colab": {
          "base_uri": "https://localhost:8080/"
        },
        "id": "b58p50xMclnr",
        "outputId": "aebd8749-13f8-4ef8-de14-5a6e8d9724ec"
      },
      "outputs": [
        {
          "output_type": "execute_result",
          "data": {
            "text/plain": [
              "<tf.Tensor: shape=(3,), dtype=int32, numpy=array([1, 4, 2], dtype=int32)>"
            ]
          },
          "metadata": {},
          "execution_count": 74
        }
      ],
      "source": [
        "tf.reduce_min(a,axis=0) #max"
      ]
    },
    {
      "cell_type": "code",
      "source": [
        "tf.reduce_min(a,axis=1)"
      ],
      "metadata": {
        "colab": {
          "base_uri": "https://localhost:8080/"
        },
        "id": "xCSDu1huQQuJ",
        "outputId": "8024d22e-b3d0-49fa-ee2b-ecc97b2f33dc"
      },
      "execution_count": null,
      "outputs": [
        {
          "output_type": "execute_result",
          "data": {
            "text/plain": [
              "<tf.Tensor: shape=(2,), dtype=int32, numpy=array([3, 1], dtype=int32)>"
            ]
          },
          "metadata": {},
          "execution_count": 75
        }
      ]
    },
    {
      "cell_type": "code",
      "source": [
        "tf.reduce_sum(a,axis=0) #mean #prod"
      ],
      "metadata": {
        "colab": {
          "base_uri": "https://localhost:8080/"
        },
        "id": "udWuVHUUQqxr",
        "outputId": "34178d29-0c6c-418b-c992-2588360ed962"
      },
      "execution_count": null,
      "outputs": [
        {
          "output_type": "execute_result",
          "data": {
            "text/plain": [
              "<tf.Tensor: shape=(3,), dtype=int32, numpy=array([ 4, 11, 10], dtype=int32)>"
            ]
          },
          "metadata": {},
          "execution_count": 76
        }
      ]
    },
    {
      "cell_type": "code",
      "source": [
        "tf.reduce_sum(a,axis=0, keepdims=True)"
      ],
      "metadata": {
        "colab": {
          "base_uri": "https://localhost:8080/"
        },
        "id": "fsY83G4URBdn",
        "outputId": "b44ba2c5-8115-45bd-b98e-3fb9562ae8e9"
      },
      "execution_count": null,
      "outputs": [
        {
          "output_type": "execute_result",
          "data": {
            "text/plain": [
              "<tf.Tensor: shape=(1, 3), dtype=int32, numpy=array([[ 4, 11, 10]], dtype=int32)>"
            ]
          },
          "metadata": {},
          "execution_count": 77
        }
      ]
    },
    {
      "cell_type": "code",
      "source": [],
      "metadata": {
        "id": "fQAqAQ5cRMlg"
      },
      "execution_count": null,
      "outputs": []
    },
    {
      "cell_type": "code",
      "execution_count": null,
      "metadata": {
        "id": "V86u8Su2crqU"
      },
      "outputs": [],
      "source": [
        "a= tf.Variable([[3,4],[1,7]])\n",
        "b=tf.Variable([[3,6],[2,7]])"
      ]
    },
    {
      "cell_type": "code",
      "source": [
        "a+b"
      ],
      "metadata": {
        "colab": {
          "base_uri": "https://localhost:8080/"
        },
        "id": "vOh0D3-PSkrn",
        "outputId": "882fd83f-06f4-4c15-99ed-c941e91adac7"
      },
      "execution_count": null,
      "outputs": [
        {
          "output_type": "execute_result",
          "data": {
            "text/plain": [
              "<tf.Tensor: shape=(2, 2), dtype=int32, numpy=\n",
              "array([[ 6, 10],\n",
              "       [ 3, 14]], dtype=int32)>"
            ]
          },
          "metadata": {},
          "execution_count": 83
        }
      ]
    },
    {
      "cell_type": "code",
      "source": [
        "tf.add(a,b)"
      ],
      "metadata": {
        "colab": {
          "base_uri": "https://localhost:8080/"
        },
        "id": "-ZZckvjRSndT",
        "outputId": "63352880-2095-4233-8d6f-29d2d49934e9"
      },
      "execution_count": null,
      "outputs": [
        {
          "output_type": "execute_result",
          "data": {
            "text/plain": [
              "<tf.Tensor: shape=(2, 2), dtype=int32, numpy=\n",
              "array([[ 6, 10],\n",
              "       [ 3, 14]], dtype=int32)>"
            ]
          },
          "metadata": {},
          "execution_count": 85
        }
      ]
    },
    {
      "cell_type": "code",
      "source": [
        "a+10"
      ],
      "metadata": {
        "colab": {
          "base_uri": "https://localhost:8080/"
        },
        "id": "TCdzg7UQSuhQ",
        "outputId": "eca1d86d-9a1b-4f6f-e898-21a34467cee0"
      },
      "execution_count": null,
      "outputs": [
        {
          "output_type": "execute_result",
          "data": {
            "text/plain": [
              "<tf.Tensor: shape=(2, 2), dtype=int32, numpy=\n",
              "array([[13, 14],\n",
              "       [11, 17]], dtype=int32)>"
            ]
          },
          "metadata": {},
          "execution_count": 86
        }
      ]
    },
    {
      "cell_type": "code",
      "execution_count": null,
      "metadata": {
        "colab": {
          "base_uri": "https://localhost:8080/"
        },
        "id": "aww_QbgCd8Pt",
        "outputId": "dbf2c319-c0b8-4a7d-c2ea-9ffc364132f3"
      },
      "outputs": [
        {
          "output_type": "execute_result",
          "data": {
            "text/plain": [
              "<tf.Tensor: shape=(2, 2), dtype=int32, numpy=\n",
              "array([[17, 46],\n",
              "       [17, 55]], dtype=int32)>"
            ]
          },
          "metadata": {},
          "execution_count": 79
        }
      ],
      "source": [
        "a@b"
      ]
    },
    {
      "cell_type": "code",
      "execution_count": null,
      "metadata": {
        "colab": {
          "base_uri": "https://localhost:8080/"
        },
        "id": "a2-f4-SZd9gN",
        "outputId": "988acc35-5848-48fd-8955-b23aca0d665c"
      },
      "outputs": [
        {
          "output_type": "execute_result",
          "data": {
            "text/plain": [
              "<tf.Tensor: shape=(2, 2), dtype=int32, numpy=\n",
              "array([[17, 46],\n",
              "       [17, 55]], dtype=int32)>"
            ]
          },
          "metadata": {},
          "execution_count": 80
        }
      ],
      "source": [
        "tf.matmul(a,b)"
      ]
    },
    {
      "cell_type": "code",
      "execution_count": null,
      "metadata": {
        "colab": {
          "base_uri": "https://localhost:8080/"
        },
        "id": "iKrg59zzeChj",
        "outputId": "36d9e9e3-5bc5-494e-935b-4b3c4555de11"
      },
      "outputs": [
        {
          "output_type": "execute_result",
          "data": {
            "text/plain": [
              "<tf.Tensor: shape=(2, 2), dtype=int32, numpy=\n",
              "array([[ 9, 24],\n",
              "       [ 2, 49]], dtype=int32)>"
            ]
          },
          "metadata": {},
          "execution_count": 81
        }
      ],
      "source": [
        "a*b"
      ]
    },
    {
      "cell_type": "code",
      "execution_count": null,
      "metadata": {
        "colab": {
          "base_uri": "https://localhost:8080/"
        },
        "id": "5DzZFVszeE3k",
        "outputId": "32de391c-1edc-4a9f-a56d-5f33a915ea1f"
      },
      "outputs": [
        {
          "output_type": "execute_result",
          "data": {
            "text/plain": [
              "<tf.Tensor: shape=(2, 2), dtype=int32, numpy=\n",
              "array([[ 9, 24],\n",
              "       [ 2, 49]], dtype=int32)>"
            ]
          },
          "metadata": {},
          "execution_count": 82
        }
      ],
      "source": [
        "tf.multiply(a,b)"
      ]
    },
    {
      "cell_type": "code",
      "execution_count": null,
      "metadata": {
        "id": "OJYkhuhheSrk"
      },
      "outputs": [],
      "source": []
    }
  ],
  "metadata": {
    "colab": {
      "provenance": [],
      "collapsed_sections": [
        "A1Rkd3e_Vrkx",
        "vmipprh6XtWg",
        "0HsZ4Ou8OpQW",
        "0F9bJyy7O2gi",
        "F6_Qy9bcO-5K",
        "BYtRrwaNPVDD",
        "N5H8asdm6DBk"
      ],
      "authorship_tag": "ABX9TyP8Vw3Tkd69EUxn9E/EUw2d",
      "include_colab_link": true
    },
    "kernelspec": {
      "display_name": "Python 3",
      "name": "python3"
    },
    "language_info": {
      "name": "python"
    }
  },
  "nbformat": 4,
  "nbformat_minor": 0
}