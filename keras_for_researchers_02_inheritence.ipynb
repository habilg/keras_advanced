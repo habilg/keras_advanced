{
  "nbformat": 4,
  "nbformat_minor": 0,
  "metadata": {
    "colab": {
      "provenance": [],
      "authorship_tag": "ABX9TyMijNFuF8Xej+iX07utazlM",
      "include_colab_link": true
    },
    "kernelspec": {
      "name": "python3",
      "display_name": "Python 3"
    },
    "language_info": {
      "name": "python"
    }
  },
  "cells": [
    {
      "cell_type": "markdown",
      "metadata": {
        "id": "view-in-github",
        "colab_type": "text"
      },
      "source": [
        "<a href=\"https://colab.research.google.com/github/habilg/keras_advanced/blob/master/keras_for_researchers_02_inheritence.ipynb\" target=\"_parent\"><img src=\"https://colab.research.google.com/assets/colab-badge.svg\" alt=\"Open In Colab\"/></a>"
      ]
    },
    {
      "cell_type": "markdown",
      "source": [
        "## ANATOMY of a CLASS:\n",
        "`definition:` the keyword of class and the name of class  \n",
        "`Class instantiation` is a way to instantiate from a class,  uses function notation (instantiation operator)  \n",
        "`class variables:` are for attributes and methods shared by all instances of the class:  \n",
        "`instance object`   \n",
        "`instance attributes:`\n",
        "- `data attributes` correspond to “instance variables”  \n",
        "- `Method:` is a function that “belongs to” an object   \n",
        "\n",
        "`instance variables:` are for data unique to each instance  \n"
      ],
      "metadata": {
        "id": "UeciYmLFbVC1"
      }
    },
    {
      "cell_type": "code",
      "execution_count": null,
      "metadata": {
        "id": "qbeL70pIZMrk"
      },
      "outputs": [],
      "source": [
        "class Layer: #definition\n",
        "  kind='MLP' #class variable /member\n",
        "  \n",
        "  @classmethod # class method\n",
        "  def layerKind(cls):\n",
        "    return cls.kind\n",
        "  \n",
        "  __createdlayers=None\n",
        "  @staticmethod\n",
        "  def getlayersnumber():\n",
        "    if Layer.__createdlayers ==None:\n",
        "      Layer.__createdlayers = []\n",
        "    return Layer.__createdlayers  \n",
        "\n",
        "\n",
        "\n",
        "  def __init__(self) -> None: #function object\n",
        "    pass\n",
        "  def __call__(self, *args: Any, **kwds: Any) -> Any:\n",
        "    pass\n",
        "  def myFunction(self,x,y): # It is not necessary that the function definition is textually enclosed in the class definition: assigning a function object to a local variable in the class is also ok\n",
        "    return x+y\n",
        "\n",
        "  def callfunctions(self): #Methods may call other methods by using method attributes of the self argumen\n",
        "    self.myFunction(5,10)\n"
      ]
    },
    {
      "cell_type": "markdown",
      "source": [
        "# Dunder/Magic functions"
      ],
      "metadata": {
        "id": "zSYJUC6X7AAd"
      }
    },
    {
      "cell_type": "code",
      "source": [
        "class myclass:\n",
        "  def __init__(self): #initializer function and not constructor because it runs after the object is created to initialize it!\n",
        "    pass"
      ],
      "metadata": {
        "id": "5uEKb_6M6CwF"
      },
      "execution_count": null,
      "outputs": []
    },
    {
      "cell_type": "code",
      "source": [
        "class myclass:\n",
        "  def __init__(self): \n",
        "    pass\n",
        "  def __str__(self):\n",
        "    pass"
      ],
      "metadata": {
        "id": "JAUWZN8pJ3et"
      },
      "execution_count": null,
      "outputs": []
    },
    {
      "cell_type": "code",
      "source": [
        "class myclass:\n",
        "  def __init__(self): \n",
        "    pass\n",
        "  def __str__(self):\n",
        "    pass\n",
        "  def __repr__(self):\n",
        "    pass\n",
        "  "
      ],
      "metadata": {
        "id": "wOcpJhPVKHhB"
      },
      "execution_count": null,
      "outputs": []
    },
    {
      "cell_type": "code",
      "source": [
        "class myclass:\n",
        "  def __init__(self): \n",
        "    pass\n",
        "  def __str__(self):\n",
        "    pass\n",
        "  def __repr__(self):\n",
        "    pass\n",
        "  def __call__(self):\n",
        "    pass"
      ],
      "metadata": {
        "id": "aim-G_VaKHcY"
      },
      "execution_count": null,
      "outputs": []
    },
    {
      "cell_type": "code",
      "source": [],
      "metadata": {
        "id": "iae6YK_tKHYq"
      },
      "execution_count": null,
      "outputs": []
    },
    {
      "cell_type": "code",
      "source": [],
      "metadata": {
        "id": "18EOloyOKHVq"
      },
      "execution_count": null,
      "outputs": []
    },
    {
      "cell_type": "code",
      "source": [],
      "metadata": {
        "id": "lULcL__WKHM7"
      },
      "execution_count": null,
      "outputs": []
    },
    {
      "cell_type": "code",
      "source": [],
      "metadata": {
        "id": "3GUU7oitKHCa"
      },
      "execution_count": null,
      "outputs": []
    },
    {
      "cell_type": "markdown",
      "source": [
        "# Inheritance"
      ],
      "metadata": {
        "id": "j8oWZalVfeNX"
      }
    },
    {
      "cell_type": "code",
      "source": [
        "class myLayer(Layer):\n",
        "  def __init__(self):\n",
        "    super().__init__()"
      ],
      "metadata": {
        "id": "g_RhvWeAfdTt"
      },
      "execution_count": null,
      "outputs": []
    },
    {
      "cell_type": "markdown",
      "source": [
        "# Abstraction and Interface"
      ],
      "metadata": {
        "id": "nRcb7OkR6iY_"
      }
    },
    {
      "cell_type": "code",
      "source": [],
      "metadata": {
        "id": "4Lzm5rdY6zS7"
      },
      "execution_count": null,
      "outputs": []
    },
    {
      "cell_type": "code",
      "source": [],
      "metadata": {
        "id": "1q-NBWMb6moc"
      },
      "execution_count": null,
      "outputs": []
    },
    {
      "cell_type": "markdown",
      "source": [
        "# Composition  \n",
        "create complex objects from simple ones"
      ],
      "metadata": {
        "id": "9mQfobaL60Rq"
      }
    },
    {
      "cell_type": "code",
      "source": [
        "class Author:\n",
        "  def __init__(self,name,surname):\n",
        "    self.name=name\n",
        "    self.surname=surname\n",
        "  def __str__(self):\n",
        "    return f\"{self.name} {self.surname}\"\n",
        "  def getauthor(self):\n",
        "     return f\"{self.name} {self.surname}\"\n",
        "\n",
        "class Book:\n",
        "  def __init__(self,bookname,pages,author):\n",
        "    self.bname=bookname\n",
        "    self.pages=pages\n",
        "    self.author = author\n",
        "    \n",
        "class Book2:\n",
        "  def __init__(self,bookname,pages,name,surname):\n",
        "    self.bname=bookname\n",
        "    self.pages=pages\n",
        "    self.author = Author(name,surname)\n"
      ],
      "metadata": {
        "id": "baNldKZ8629w"
      },
      "execution_count": null,
      "outputs": []
    },
    {
      "cell_type": "code",
      "source": [
        "b1=Book('AFS extbook',600,Author('Habil','Grivani'))"
      ],
      "metadata": {
        "id": "9Y7CUXznCodz"
      },
      "execution_count": null,
      "outputs": []
    },
    {
      "cell_type": "code",
      "source": [
        "b1.author.getauthor()"
      ],
      "metadata": {
        "colab": {
          "base_uri": "https://localhost:8080/",
          "height": 35
        },
        "id": "1N37br7SDNga",
        "outputId": "56a74f49-236b-4c39-e6ff-4810a7bbf128"
      },
      "execution_count": null,
      "outputs": [
        {
          "output_type": "execute_result",
          "data": {
            "text/plain": [
              "'Habil Grivani'"
            ],
            "application/vnd.google.colaboratory.intrinsic+json": {
              "type": "string"
            }
          },
          "metadata": {},
          "execution_count": 31
        }
      ]
    },
    {
      "cell_type": "code",
      "source": [
        "b2=Book2('Shewartz',2100,'Habil','Grivani')"
      ],
      "metadata": {
        "id": "dXATkvR_Frgu"
      },
      "execution_count": null,
      "outputs": []
    },
    {
      "cell_type": "code",
      "source": [
        "b2.author.getauthor()"
      ],
      "metadata": {
        "colab": {
          "base_uri": "https://localhost:8080/",
          "height": 35
        },
        "id": "Laqw_8-uF2HP",
        "outputId": "fc22b677-d06f-4b37-9057-602d756cc903"
      },
      "execution_count": null,
      "outputs": [
        {
          "output_type": "execute_result",
          "data": {
            "text/plain": [
              "'Habil Grivani'"
            ],
            "application/vnd.google.colaboratory.intrinsic+json": {
              "type": "string"
            }
          },
          "metadata": {},
          "execution_count": 33
        }
      ]
    },
    {
      "cell_type": "code",
      "source": [],
      "metadata": {
        "id": "e5ROZVkrF7e8"
      },
      "execution_count": null,
      "outputs": []
    }
  ]
}