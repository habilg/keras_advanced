{
  "cells": [
    {
      "cell_type": "markdown",
      "metadata": {
        "id": "view-in-github",
        "colab_type": "text"
      },
      "source": [
        "<a href=\"https://colab.research.google.com/github/habilg/keras_advanced/blob/master/keras_for_researchers_03_CustomLoss.ipynb\" target=\"_parent\"><img src=\"https://colab.research.google.com/assets/colab-badge.svg\" alt=\"Open In Colab\"/></a>"
      ]
    },
    {
      "cell_type": "code",
      "execution_count": 1,
      "id": "465bd33e",
      "metadata": {
        "id": "465bd33e"
      },
      "outputs": [],
      "source": [
        "import tensorflow as tf\n",
        "from tensorflow import keras\n"
      ]
    },
    {
      "cell_type": "code",
      "source": [
        "from sklearn.datasets import fetch_california_housing\n",
        "from sklearn.model_selection import train_test_split\n",
        "from sklearn.preprocessing import StandardScaler"
      ],
      "metadata": {
        "id": "N_ZRcmjfnj94"
      },
      "id": "N_ZRcmjfnj94",
      "execution_count": 2,
      "outputs": []
    },
    {
      "cell_type": "code",
      "source": [
        "housing = fetch_california_housing()"
      ],
      "metadata": {
        "id": "bBO0dcYdpN7-"
      },
      "id": "bBO0dcYdpN7-",
      "execution_count": 3,
      "outputs": []
    },
    {
      "cell_type": "code",
      "source": [
        "x_train, x_test, y_train, y_test = train_test_split(housing[\"data\"], housing[\"target\"])"
      ],
      "metadata": {
        "id": "yVZ_KzdlpPVQ"
      },
      "id": "yVZ_KzdlpPVQ",
      "execution_count": 5,
      "outputs": []
    },
    {
      "cell_type": "code",
      "source": [
        "sc=StandardScaler()\n",
        "x_train = sc.fit_transform(x_train)\n",
        "x_test= sc.fit_transform(x_test)"
      ],
      "metadata": {
        "id": "LgXkQQTFqX6F"
      },
      "id": "LgXkQQTFqX6F",
      "execution_count": 6,
      "outputs": []
    },
    {
      "cell_type": "code",
      "source": [
        "x_test[0]"
      ],
      "metadata": {
        "id": "ADhIRZ8rpU94",
        "outputId": "303b5b43-b5ba-49fc-fc8d-5d902cdf299d",
        "colab": {
          "base_uri": "https://localhost:8080/"
        }
      },
      "id": "ADhIRZ8rpU94",
      "execution_count": 27,
      "outputs": [
        {
          "output_type": "execute_result",
          "data": {
            "text/plain": [
              "array([-1.41837093, -0.14493256, -0.38218457, -0.06313802, -0.53786064,\n",
              "       -0.58085813,  0.33664405,  0.13665653])"
            ]
          },
          "metadata": {},
          "execution_count": 27
        }
      ]
    },
    {
      "cell_type": "code",
      "source": [
        "print(housing.DESCR)"
      ],
      "metadata": {
        "id": "G26pQ1YjrhTp",
        "outputId": "0c37c937-c1bf-412a-a9bb-db13563bf4ff",
        "colab": {
          "base_uri": "https://localhost:8080/"
        }
      },
      "id": "G26pQ1YjrhTp",
      "execution_count": 33,
      "outputs": [
        {
          "output_type": "stream",
          "name": "stdout",
          "text": [
            ".. _california_housing_dataset:\n",
            "\n",
            "California Housing dataset\n",
            "--------------------------\n",
            "\n",
            "**Data Set Characteristics:**\n",
            "\n",
            "    :Number of Instances: 20640\n",
            "\n",
            "    :Number of Attributes: 8 numeric, predictive attributes and the target\n",
            "\n",
            "    :Attribute Information:\n",
            "        - MedInc        median income in block group\n",
            "        - HouseAge      median house age in block group\n",
            "        - AveRooms      average number of rooms per household\n",
            "        - AveBedrms     average number of bedrooms per household\n",
            "        - Population    block group population\n",
            "        - AveOccup      average number of household members\n",
            "        - Latitude      block group latitude\n",
            "        - Longitude     block group longitude\n",
            "\n",
            "    :Missing Attribute Values: None\n",
            "\n",
            "This dataset was obtained from the StatLib repository.\n",
            "https://www.dcc.fc.up.pt/~ltorgo/Regression/cal_housing.html\n",
            "\n",
            "The target variable is the median house value for California districts,\n",
            "expressed in hundreds of thousands of dollars ($100,000).\n",
            "\n",
            "This dataset was derived from the 1990 U.S. census, using one row per census\n",
            "block group. A block group is the smallest geographical unit for which the U.S.\n",
            "Census Bureau publishes sample data (a block group typically has a population\n",
            "of 600 to 3,000 people).\n",
            "\n",
            "A household is a group of people residing within a home. Since the average\n",
            "number of rooms and bedrooms in this dataset are provided per household, these\n",
            "columns may take surprisingly large values for block groups with few households\n",
            "and many empty houses, such as vacation resorts.\n",
            "\n",
            "It can be downloaded/loaded using the\n",
            ":func:`sklearn.datasets.fetch_california_housing` function.\n",
            "\n",
            ".. topic:: References\n",
            "\n",
            "    - Pace, R. Kelley and Ronald Barry, Sparse Spatial Autoregressions,\n",
            "      Statistics and Probability Letters, 33 (1997) 291-297\n",
            "\n"
          ]
        }
      ]
    },
    {
      "cell_type": "code",
      "source": [
        "model = keras.models.Sequential()\n",
        "model.add(keras.layers.Dense(50, activation='relu'))\n",
        "model.add(keras.layers.Dense(10,activation='relu'))\n",
        "model.add(keras.layers.Dense(1))"
      ],
      "metadata": {
        "id": "AfxdVnIur02z"
      },
      "id": "AfxdVnIur02z",
      "execution_count": 7,
      "outputs": []
    },
    {
      "cell_type": "code",
      "source": [
        "model.compile(loss=\"mse\",\n",
        "              optimizer=\"sgd\",\n",
        "              metrics=[\"mean_absolute_error\"])"
      ],
      "metadata": {
        "id": "P49WJRzesgG1"
      },
      "id": "P49WJRzesgG1",
      "execution_count": 42,
      "outputs": []
    },
    {
      "cell_type": "code",
      "source": [
        "model.fit(x_train, y_train,epochs=20, validation_split=0.15)"
      ],
      "metadata": {
        "id": "l0FZjaRBs-MV",
        "outputId": "250a5bbe-22f5-4f66-b276-f8d1a6a9748d",
        "colab": {
          "base_uri": "https://localhost:8080/"
        }
      },
      "id": "l0FZjaRBs-MV",
      "execution_count": 43,
      "outputs": [
        {
          "output_type": "stream",
          "name": "stdout",
          "text": [
            "Epoch 1/20\n",
            "412/412 [==============================] - 1s 1ms/step - loss: 0.8022 - mean_absolute_error: 0.6078 - val_loss: 0.4799 - val_mean_absolute_error: 0.4888\n",
            "Epoch 2/20\n",
            "412/412 [==============================] - 1s 1ms/step - loss: 0.4253 - mean_absolute_error: 0.4689 - val_loss: 0.4125 - val_mean_absolute_error: 0.4513\n",
            "Epoch 3/20\n",
            "412/412 [==============================] - 0s 1ms/step - loss: 0.4176 - mean_absolute_error: 0.4619 - val_loss: 0.4127 - val_mean_absolute_error: 0.4696\n",
            "Epoch 4/20\n",
            "412/412 [==============================] - 0s 1ms/step - loss: 0.3802 - mean_absolute_error: 0.4430 - val_loss: 0.3861 - val_mean_absolute_error: 0.4408\n",
            "Epoch 5/20\n",
            "412/412 [==============================] - 0s 1ms/step - loss: 0.3698 - mean_absolute_error: 0.4348 - val_loss: 0.3636 - val_mean_absolute_error: 0.4333\n",
            "Epoch 6/20\n",
            "412/412 [==============================] - 0s 1ms/step - loss: 0.3636 - mean_absolute_error: 0.4316 - val_loss: 0.3639 - val_mean_absolute_error: 0.4264\n",
            "Epoch 7/20\n",
            "412/412 [==============================] - 0s 1ms/step - loss: 0.3595 - mean_absolute_error: 0.4279 - val_loss: 0.3552 - val_mean_absolute_error: 0.4315\n",
            "Epoch 8/20\n",
            "412/412 [==============================] - 0s 1ms/step - loss: 0.3535 - mean_absolute_error: 0.4243 - val_loss: 0.3558 - val_mean_absolute_error: 0.4147\n",
            "Epoch 9/20\n",
            "412/412 [==============================] - 0s 1ms/step - loss: 0.3497 - mean_absolute_error: 0.4206 - val_loss: 0.3623 - val_mean_absolute_error: 0.4124\n",
            "Epoch 10/20\n",
            "412/412 [==============================] - 0s 1ms/step - loss: 0.3456 - mean_absolute_error: 0.4163 - val_loss: 0.3348 - val_mean_absolute_error: 0.4091\n",
            "Epoch 11/20\n",
            "412/412 [==============================] - 0s 1ms/step - loss: 0.3426 - mean_absolute_error: 0.4143 - val_loss: 0.3442 - val_mean_absolute_error: 0.4231\n",
            "Epoch 12/20\n",
            "412/412 [==============================] - 0s 1ms/step - loss: 0.3406 - mean_absolute_error: 0.4139 - val_loss: 0.3369 - val_mean_absolute_error: 0.4030\n",
            "Epoch 13/20\n",
            "412/412 [==============================] - 0s 1ms/step - loss: 0.3389 - mean_absolute_error: 0.4132 - val_loss: 0.3291 - val_mean_absolute_error: 0.3990\n",
            "Epoch 14/20\n",
            "412/412 [==============================] - 1s 1ms/step - loss: 0.3353 - mean_absolute_error: 0.4105 - val_loss: 0.3639 - val_mean_absolute_error: 0.4109\n",
            "Epoch 15/20\n",
            "412/412 [==============================] - 1s 2ms/step - loss: 0.3326 - mean_absolute_error: 0.4077 - val_loss: 0.3265 - val_mean_absolute_error: 0.3962\n",
            "Epoch 16/20\n",
            "412/412 [==============================] - 1s 2ms/step - loss: 0.3316 - mean_absolute_error: 0.4079 - val_loss: 0.3442 - val_mean_absolute_error: 0.4012\n",
            "Epoch 17/20\n",
            "412/412 [==============================] - 0s 1ms/step - loss: 0.3286 - mean_absolute_error: 0.4060 - val_loss: 0.3311 - val_mean_absolute_error: 0.4089\n",
            "Epoch 18/20\n",
            "412/412 [==============================] - 0s 1ms/step - loss: 0.3273 - mean_absolute_error: 0.4040 - val_loss: 0.3259 - val_mean_absolute_error: 0.4123\n",
            "Epoch 19/20\n",
            "412/412 [==============================] - 0s 1ms/step - loss: 0.3249 - mean_absolute_error: 0.4037 - val_loss: 0.3150 - val_mean_absolute_error: 0.3945\n",
            "Epoch 20/20\n",
            "412/412 [==============================] - 0s 1ms/step - loss: 0.3233 - mean_absolute_error: 0.4012 - val_loss: 0.3149 - val_mean_absolute_error: 0.3920\n"
          ]
        },
        {
          "output_type": "execute_result",
          "data": {
            "text/plain": [
              "<keras.src.callbacks.History at 0x7a378c6d8b50>"
            ]
          },
          "metadata": {},
          "execution_count": 43
        }
      ]
    },
    {
      "cell_type": "markdown",
      "source": [
        "## Step 1 - new loss definition"
      ],
      "metadata": {
        "id": "wSZUp0RO1L8U"
      },
      "id": "wSZUp0RO1L8U"
    },
    {
      "cell_type": "code",
      "source": [
        "def my_loss(y_true, y_predict):\n",
        "  error = tf.abs(y_true - y_predict)\n",
        "  return tf.experimental.numpy.select([error<0.1 , error<0.5, error>=0.5],[error, error*2, error**2])"
      ],
      "metadata": {
        "id": "aPixgGb-tQkI"
      },
      "id": "aPixgGb-tQkI",
      "execution_count": 44,
      "outputs": []
    },
    {
      "cell_type": "code",
      "source": [
        "model.compile(loss=my_loss,\n",
        "              optimizer=\"sgd\",\n",
        "              metrics=[\"mean_absolute_error\"])"
      ],
      "metadata": {
        "id": "eTVgIKsR_bdB"
      },
      "id": "eTVgIKsR_bdB",
      "execution_count": null,
      "outputs": []
    },
    {
      "cell_type": "markdown",
      "source": [
        "## Step 2- provide parameters for loss function"
      ],
      "metadata": {
        "id": "QxNxpfCo_iTW"
      },
      "id": "QxNxpfCo_iTW"
    },
    {
      "cell_type": "code",
      "source": [
        "def loss_wrapper(t1,t2):\n",
        "  def my_loss(y_true, y_predict):\n",
        "    error = tf.abs(y_true - y_predict)\n",
        "    return tf.experimental.numpy.select([error<t1 , error<t2, error>=t2],[error, error*2, error**2])\n",
        "  return my_loss"
      ],
      "metadata": {
        "id": "Zc3TLxq3_rMr"
      },
      "id": "Zc3TLxq3_rMr",
      "execution_count": 45,
      "outputs": []
    },
    {
      "cell_type": "code",
      "source": [
        "model.compile(loss=loss_wrapper(0.1,0.5),\n",
        "              optimizer=\"sgd\",\n",
        "              metrics=[\"mean_absolute_error\"])"
      ],
      "metadata": {
        "id": "6gWSP4nHAS2l"
      },
      "id": "6gWSP4nHAS2l",
      "execution_count": 46,
      "outputs": []
    },
    {
      "cell_type": "code",
      "source": [
        "model.fit(x_train, y_train,epochs=5, validation_split=0.15)"
      ],
      "metadata": {
        "id": "sSRBLdILAcR0",
        "outputId": "8468de4f-39e1-422c-b02b-fad03ec6663e",
        "colab": {
          "base_uri": "https://localhost:8080/"
        }
      },
      "id": "sSRBLdILAcR0",
      "execution_count": 47,
      "outputs": [
        {
          "output_type": "stream",
          "name": "stdout",
          "text": [
            "Epoch 1/5\n",
            "412/412 [==============================] - 1s 1ms/step - loss: 0.5880 - mean_absolute_error: 0.4007 - val_loss: 0.5927 - val_mean_absolute_error: 0.4005\n",
            "Epoch 2/5\n",
            "412/412 [==============================] - 1s 1ms/step - loss: 0.5809 - mean_absolute_error: 0.3972 - val_loss: 0.5980 - val_mean_absolute_error: 0.3973\n",
            "Epoch 3/5\n",
            "412/412 [==============================] - 0s 1ms/step - loss: 0.5801 - mean_absolute_error: 0.3951 - val_loss: 0.6208 - val_mean_absolute_error: 0.4109\n",
            "Epoch 4/5\n",
            "412/412 [==============================] - 0s 1ms/step - loss: 0.5751 - mean_absolute_error: 0.3925 - val_loss: 0.5933 - val_mean_absolute_error: 0.4054\n",
            "Epoch 5/5\n",
            "412/412 [==============================] - 1s 1ms/step - loss: 0.5737 - mean_absolute_error: 0.3904 - val_loss: 0.6153 - val_mean_absolute_error: 0.4148\n"
          ]
        },
        {
          "output_type": "execute_result",
          "data": {
            "text/plain": [
              "<keras.src.callbacks.History at 0x7a3784b98b20>"
            ]
          },
          "metadata": {},
          "execution_count": 47
        }
      ]
    },
    {
      "cell_type": "markdown",
      "source": [
        "if the model is saved, the parameters are not passed. you should provide the model with these parameters while you are loading it. let's give it a try"
      ],
      "metadata": {
        "id": "vJep82PRC-Kd"
      },
      "id": "vJep82PRC-Kd"
    },
    {
      "cell_type": "code",
      "source": [
        "model.save(\"mymodel.h5\")"
      ],
      "metadata": {
        "id": "DRFR9Y7zDVxT",
        "outputId": "02096daa-a7df-4491-8494-e2f0a9c925fc",
        "colab": {
          "base_uri": "https://localhost:8080/"
        }
      },
      "id": "DRFR9Y7zDVxT",
      "execution_count": 48,
      "outputs": [
        {
          "output_type": "stream",
          "name": "stderr",
          "text": [
            "/usr/local/lib/python3.10/dist-packages/keras/src/engine/training.py:3103: UserWarning: You are saving your model as an HDF5 file via `model.save()`. This file format is considered legacy. We recommend using instead the native Keras format, e.g. `model.save('my_model.keras')`.\n",
            "  saving_api.save_model(\n"
          ]
        }
      ]
    },
    {
      "cell_type": "code",
      "source": [
        "loaded_model=keras.models.load_model(\"mymodel.h5\")"
      ],
      "metadata": {
        "id": "QBGb_yoMDc_b",
        "outputId": "7a5b527a-f3bd-485b-8c42-436101093819",
        "colab": {
          "base_uri": "https://localhost:8080/",
          "height": 321
        }
      },
      "id": "QBGb_yoMDc_b",
      "execution_count": 49,
      "outputs": [
        {
          "output_type": "error",
          "ename": "ValueError",
          "evalue": "Unknown loss function: 'my_loss'. Please ensure you are using a `keras.utils.custom_object_scope` and that this object is included in the scope. See https://www.tensorflow.org/guide/keras/save_and_serialize#registering_the_custom_object for details.",
          "traceback": [
            "\u001b[0;31m---------------------------------------------------------------------------\u001b[0m",
            "\u001b[0;31mValueError\u001b[0m                                Traceback (most recent call last)",
            "\u001b[0;32m<ipython-input-49-d4960a382836>\u001b[0m in \u001b[0;36m<cell line: 1>\u001b[0;34m()\u001b[0m\n\u001b[0;32m----> 1\u001b[0;31m \u001b[0mloaded_model\u001b[0m\u001b[0;34m=\u001b[0m\u001b[0mkeras\u001b[0m\u001b[0;34m.\u001b[0m\u001b[0mmodels\u001b[0m\u001b[0;34m.\u001b[0m\u001b[0mload_model\u001b[0m\u001b[0;34m(\u001b[0m\u001b[0;34m\"mymodel.h5\"\u001b[0m\u001b[0;34m)\u001b[0m\u001b[0;34m\u001b[0m\u001b[0;34m\u001b[0m\u001b[0m\n\u001b[0m",
            "\u001b[0;32m/usr/local/lib/python3.10/dist-packages/keras/src/saving/saving_api.py\u001b[0m in \u001b[0;36mload_model\u001b[0;34m(filepath, custom_objects, compile, safe_mode, **kwargs)\u001b[0m\n\u001b[1;32m    260\u001b[0m \u001b[0;34m\u001b[0m\u001b[0m\n\u001b[1;32m    261\u001b[0m     \u001b[0;31m# Legacy case.\u001b[0m\u001b[0;34m\u001b[0m\u001b[0;34m\u001b[0m\u001b[0m\n\u001b[0;32m--> 262\u001b[0;31m     return legacy_sm_saving_lib.load_model(\n\u001b[0m\u001b[1;32m    263\u001b[0m         \u001b[0mfilepath\u001b[0m\u001b[0;34m,\u001b[0m \u001b[0mcustom_objects\u001b[0m\u001b[0;34m=\u001b[0m\u001b[0mcustom_objects\u001b[0m\u001b[0;34m,\u001b[0m \u001b[0mcompile\u001b[0m\u001b[0;34m=\u001b[0m\u001b[0mcompile\u001b[0m\u001b[0;34m,\u001b[0m \u001b[0;34m**\u001b[0m\u001b[0mkwargs\u001b[0m\u001b[0;34m\u001b[0m\u001b[0;34m\u001b[0m\u001b[0m\n\u001b[1;32m    264\u001b[0m     )\n",
            "\u001b[0;32m/usr/local/lib/python3.10/dist-packages/keras/src/utils/traceback_utils.py\u001b[0m in \u001b[0;36merror_handler\u001b[0;34m(*args, **kwargs)\u001b[0m\n\u001b[1;32m     68\u001b[0m             \u001b[0;31m# To get the full stack trace, call:\u001b[0m\u001b[0;34m\u001b[0m\u001b[0;34m\u001b[0m\u001b[0m\n\u001b[1;32m     69\u001b[0m             \u001b[0;31m# `tf.debugging.disable_traceback_filtering()`\u001b[0m\u001b[0;34m\u001b[0m\u001b[0;34m\u001b[0m\u001b[0m\n\u001b[0;32m---> 70\u001b[0;31m             \u001b[0;32mraise\u001b[0m \u001b[0me\u001b[0m\u001b[0;34m.\u001b[0m\u001b[0mwith_traceback\u001b[0m\u001b[0;34m(\u001b[0m\u001b[0mfiltered_tb\u001b[0m\u001b[0;34m)\u001b[0m \u001b[0;32mfrom\u001b[0m \u001b[0;32mNone\u001b[0m\u001b[0;34m\u001b[0m\u001b[0;34m\u001b[0m\u001b[0m\n\u001b[0m\u001b[1;32m     71\u001b[0m         \u001b[0;32mfinally\u001b[0m\u001b[0;34m:\u001b[0m\u001b[0;34m\u001b[0m\u001b[0;34m\u001b[0m\u001b[0m\n\u001b[1;32m     72\u001b[0m             \u001b[0;32mdel\u001b[0m \u001b[0mfiltered_tb\u001b[0m\u001b[0;34m\u001b[0m\u001b[0;34m\u001b[0m\u001b[0m\n",
            "\u001b[0;32m/usr/local/lib/python3.10/dist-packages/keras/src/saving/legacy/serialization.py\u001b[0m in \u001b[0;36mdeserialize_keras_object\u001b[0;34m(identifier, module_objects, custom_objects, printable_module_name)\u001b[0m\n\u001b[1;32m    535\u001b[0m             \u001b[0mobj\u001b[0m \u001b[0;34m=\u001b[0m \u001b[0mmodule_objects\u001b[0m\u001b[0;34m.\u001b[0m\u001b[0mget\u001b[0m\u001b[0;34m(\u001b[0m\u001b[0mobject_name\u001b[0m\u001b[0;34m)\u001b[0m\u001b[0;34m\u001b[0m\u001b[0;34m\u001b[0m\u001b[0m\n\u001b[1;32m    536\u001b[0m             \u001b[0;32mif\u001b[0m \u001b[0mobj\u001b[0m \u001b[0;32mis\u001b[0m \u001b[0;32mNone\u001b[0m\u001b[0;34m:\u001b[0m\u001b[0;34m\u001b[0m\u001b[0;34m\u001b[0m\u001b[0m\n\u001b[0;32m--> 537\u001b[0;31m                 raise ValueError(\n\u001b[0m\u001b[1;32m    538\u001b[0m                     \u001b[0;34mf\"Unknown {printable_module_name}: '{object_name}'. \"\u001b[0m\u001b[0;34m\u001b[0m\u001b[0;34m\u001b[0m\u001b[0m\n\u001b[1;32m    539\u001b[0m                     \u001b[0;34m\"Please ensure you are using a \"\u001b[0m\u001b[0;34m\u001b[0m\u001b[0;34m\u001b[0m\u001b[0m\n",
            "\u001b[0;31mValueError\u001b[0m: Unknown loss function: 'my_loss'. Please ensure you are using a `keras.utils.custom_object_scope` and that this object is included in the scope. See https://www.tensorflow.org/guide/keras/save_and_serialize#registering_the_custom_object for details."
          ]
        }
      ]
    },
    {
      "cell_type": "markdown",
      "source": [
        "to avoid the last error, the loss should be passed as a ``custom object `` argument like below. Remeber that the provided key must be the same name of the written function."
      ],
      "metadata": {
        "id": "MNdE_yP-Ek2Y"
      },
      "id": "MNdE_yP-Ek2Y"
    },
    {
      "cell_type": "code",
      "source": [
        "loaded_model=keras.models.load_model(\"mymodel.h5\", custom_objects={'my_loss':loss_wrapper(0.1,0.5)})"
      ],
      "metadata": {
        "id": "uqnvpYSuDrYh"
      },
      "id": "uqnvpYSuDrYh",
      "execution_count": 52,
      "outputs": []
    },
    {
      "cell_type": "markdown",
      "source": [
        "## Step 3 -subclassing\n",
        "\n",
        "```python  \n",
        "class Myloss(tf.keras.losses.Loss):\n",
        "  def __init__(self,...,**kwargs):\n",
        "    # initilizing the parameters\n",
        "    super().__init__(**kwargs)\n",
        "\n",
        "  def call(self, y_true,y_predict) / or __call__():\n",
        "    \n",
        "    #body of calculations\n",
        "\n",
        "  \n",
        "  def get_config(self):\n",
        "    parent_config= super().get_config()\n",
        "    return {**parent_config, \"key1\":value, ..., \"keyn\":value}\n",
        "\n",
        "\n",
        "\n",
        "```"
      ],
      "metadata": {
        "id": "cy8DiYLrAq72"
      },
      "id": "cy8DiYLrAq72"
    },
    {
      "cell_type": "code",
      "source": [
        "class Myloss(tf.keras.losses.Loss):\n",
        "  def __init__(self,t1,t2,**kwargs):\n",
        "    super().__init__(**kwargs)\n",
        "    self.t1 = t1\n",
        "    self.t2 = t2\n",
        "\n",
        "\n",
        "  def call(self, y_true,y_predict):\n",
        "\n",
        "    error = tf.abs(y_true - y_predict)\n",
        "    return tf.experimental.numpy.select([error<self.t1 , error<self.t2, error>=self.t2],[error, error*2, error**2])\n",
        "\n",
        "\n",
        "  def get_config(self):\n",
        "    parent_config= super().get_config()\n",
        "    return {**parent_config, \"t1\":self.t1, \"t2\":self.t2}\n"
      ],
      "metadata": {
        "id": "RObyP0ZoGEN5"
      },
      "id": "RObyP0ZoGEN5",
      "execution_count": 17,
      "outputs": []
    },
    {
      "cell_type": "code",
      "source": [
        "model.compile(loss=Myloss(0.1,0.5),\n",
        "              optimizer=\"sgd\",\n",
        "              metrics=[\"mean_absolute_error\"])"
      ],
      "metadata": {
        "id": "GgQF1AUfGo0Z"
      },
      "id": "GgQF1AUfGo0Z",
      "execution_count": 18,
      "outputs": []
    },
    {
      "cell_type": "code",
      "source": [
        "model.fit(x_train, y_train,epochs=5, validation_split=0.15)"
      ],
      "metadata": {
        "id": "ieun3blyG3J2",
        "outputId": "93fc53f1-6352-4857-e06d-869b4d32019f",
        "colab": {
          "base_uri": "https://localhost:8080/"
        }
      },
      "id": "ieun3blyG3J2",
      "execution_count": 19,
      "outputs": [
        {
          "output_type": "stream",
          "name": "stdout",
          "text": [
            "Epoch 1/5\n",
            "412/412 [==============================] - 1s 1ms/step - loss: 0.6301 - mean_absolute_error: 0.4328 - val_loss: 0.6484 - val_mean_absolute_error: 0.4328\n",
            "Epoch 2/5\n",
            "412/412 [==============================] - 1s 1ms/step - loss: 0.6232 - mean_absolute_error: 0.4279 - val_loss: 0.6373 - val_mean_absolute_error: 0.4397\n",
            "Epoch 3/5\n",
            "412/412 [==============================] - 1s 1ms/step - loss: 0.6173 - mean_absolute_error: 0.4240 - val_loss: 0.6644 - val_mean_absolute_error: 0.4385\n",
            "Epoch 4/5\n",
            "412/412 [==============================] - 1s 1ms/step - loss: 0.6058 - mean_absolute_error: 0.4182 - val_loss: 0.6157 - val_mean_absolute_error: 0.4189\n",
            "Epoch 5/5\n",
            "412/412 [==============================] - 1s 1ms/step - loss: 0.5960 - mean_absolute_error: 0.4128 - val_loss: 0.7208 - val_mean_absolute_error: 0.4853\n"
          ]
        },
        {
          "output_type": "execute_result",
          "data": {
            "text/plain": [
              "<keras.src.callbacks.History at 0x7b31f80b6710>"
            ]
          },
          "metadata": {},
          "execution_count": 19
        }
      ]
    },
    {
      "cell_type": "code",
      "source": [
        "model.save(\"mymodel+subclassed_loss.h5\")"
      ],
      "metadata": {
        "id": "DGtZ41ROHhQ8",
        "outputId": "fa8c6890-160b-4582-e81a-47df80a24896",
        "colab": {
          "base_uri": "https://localhost:8080/"
        }
      },
      "id": "DGtZ41ROHhQ8",
      "execution_count": 20,
      "outputs": [
        {
          "output_type": "stream",
          "name": "stderr",
          "text": [
            "/usr/local/lib/python3.10/dist-packages/keras/src/engine/training.py:3103: UserWarning: You are saving your model as an HDF5 file via `model.save()`. This file format is considered legacy. We recommend using instead the native Keras format, e.g. `model.save('my_model.keras')`.\n",
            "  saving_api.save_model(\n"
          ]
        }
      ]
    },
    {
      "cell_type": "code",
      "source": [
        "loaded_model = keras.models.load_model(\"mymodel+subclassed_loss.h5\",custom_objects={'Myloss':Myloss})"
      ],
      "metadata": {
        "id": "gh-tJpnkHtlc"
      },
      "id": "gh-tJpnkHtlc",
      "execution_count": 21,
      "outputs": []
    },
    {
      "cell_type": "code",
      "source": [],
      "metadata": {
        "id": "hr1DEtJHISua"
      },
      "id": "hr1DEtJHISua",
      "execution_count": null,
      "outputs": []
    }
  ],
  "metadata": {
    "kernelspec": {
      "display_name": "Python 3 (ipykernel)",
      "language": "python",
      "name": "python3"
    },
    "language_info": {
      "codemirror_mode": {
        "name": "ipython",
        "version": 3
      },
      "file_extension": ".py",
      "mimetype": "text/x-python",
      "name": "python",
      "nbconvert_exporter": "python",
      "pygments_lexer": "ipython3",
      "version": "3.11.5"
    },
    "colab": {
      "provenance": [],
      "include_colab_link": true
    }
  },
  "nbformat": 4,
  "nbformat_minor": 5
}